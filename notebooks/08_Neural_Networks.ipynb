{
 "cells": [
  {
   "cell_type": "markdown",
   "metadata": {
    "id": "hVPVtBmT2lxP"
   },
   "source": [
    "<div align=\"center\">\n",
    "<h1><img width=\"30\" src=\"https://madewithml.com/static/images/rounded_logo.png\">&nbsp;<a href=\"https://madewithml.com/\">Made With ML</a></h1>\n",
    "Applied ML · MLOps · Production\n",
    "<br>\n",
    "Join 30K+ developers in learning how to responsibly <a href=\"https://madewithml.com/about/\">deliver value</a> with ML.\n",
    "    <br>\n",
    "</div>\n",
    "\n",
    "<br>\n",
    "\n",
    "<div align=\"center\">\n",
    "    <a target=\"_blank\" href=\"https://madewithml.com\"><img src=\"https://img.shields.io/badge/Subscribe-30K-brightgreen\"></a>&nbsp;\n",
    "    <a target=\"_blank\" href=\"https://github.com/GokuMohandas/Made-With-ML\"><img src=\"https://img.shields.io/github/stars/GokuMohandas/Made-With-ML.svg?style=social&label=Star\"></a>&nbsp;\n",
    "    <a target=\"_blank\" href=\"https://www.linkedin.com/in/goku\"><img src=\"https://img.shields.io/badge/style--5eba00.svg?label=LinkedIn&logo=linkedin&style=social\"></a>&nbsp;\n",
    "    <a target=\"_blank\" href=\"https://twitter.com/GokuMohandas\"><img src=\"https://img.shields.io/twitter/follow/GokuMohandas.svg?label=Follow&style=social\"></a>\n",
    "    <br>\n",
    "    🔥&nbsp; Among the <a href=\"https://github.com/topics/deep-learning\" target=\"_blank\">top ML</a> repositories on GitHub\n",
    "</div>\n",
    "\n",
    "<br>\n",
    "<hr>"
   ]
  },
  {
   "cell_type": "markdown",
   "metadata": {
    "id": "eTdCMVl9YAXw"
   },
   "source": [
    "# Neural Networks\n",
    "\n",
    "In this lesson, we will explore multilayer perceptrons (MLPs) which are a basic type of neural network. We'll first motivate non-linear activation functions by trying to fit a linear model (logistic regression) on our non-linear spiral data. Then we'll implement an MLP using just NumPy and then with PyTorch."
   ]
  },
  {
   "cell_type": "markdown",
   "metadata": {
    "id": "xuabAj4PYj57"
   },
   "source": [
    "<div align=\"left\">\n",
    "<a target=\"_blank\" href=\"https://madewithml.com/courses/foundations/neural-networks/\"><img src=\"https://img.shields.io/badge/📖 Read-blog post-9cf\"></a>&nbsp;\n",
    "<a href=\"https://github.com/GokuMohandas/Made-With-ML/blob/main/notebooks/08_Neural_Networks.ipynb\" role=\"button\"><img src=\"https://img.shields.io/static/v1?label=&amp;message=View%20On%20GitHub&amp;color=586069&amp;logo=github&amp;labelColor=2f363d\"></a>&nbsp;\n",
    "<a href=\"https://colab.research.google.com/github/GokuMohandas/Made-With-ML/blob/main/notebooks/08_Neural_Networks.ipynb\"><img src=\"https://colab.research.google.com/assets/colab-badge.svg\" alt=\"Open In Colab\"></a>\n",
    "</div>"
   ]
  },
  {
   "cell_type": "markdown",
   "metadata": {
    "id": "VoMq0eFRvugb"
   },
   "source": [
    "# Overview"
   ]
  },
  {
   "cell_type": "markdown",
   "metadata": {
    "id": "qWro5T5qTJJL"
   },
   "source": [
    "Our goal is to learn a model $\\hat{y}$ that models $y$ given $X$ . You'll notice that neural networks are just extensions of the generalized linear methods we've seen so far but with non-linear activation functions since our data will be highly non-linear.\n",
    "\n",
    "<div align=\"left\">\n",
    "<img src=\"https://madewithml.com/static/images/foundations/neural_networks/mlp.png\" width=\"500\">\n",
    "</div>\n",
    "\n",
    "$z_1 = XW_1$\n",
    "\n",
    "$a_1 = f(z_1)$\n",
    "\n",
    "$z_2 = a_1W_2$\n",
    "\n",
    "$\\hat{y} = softmax(z_2)$ # classification\n",
    "\n",
    "* $X$ = inputs | $\\in \\mathbb{R}^{NXD}$ ($D$ is the number of features)\n",
    "* $W_1$ = 1st layer weights | $\\in \\mathbb{R}^{DXH}$ ($H$ is the number of hidden units in layer 1)\n",
    "* $z_1$ = outputs from first layer  $\\in \\mathbb{R}^{NXH}$\n",
    "* $f$ = non-linear activation function\n",
    "* $a_1$ = activation applied first layer's outputs | $\\in \\mathbb{R}^{NXH}$\n",
    "* $W_2$ = 2nd layer weights | $\\in \\mathbb{R}^{HXC}$ ($C$ is the number of classes)\n",
    "* $z_2$ = outputs from second layer  $\\in \\mathbb{R}^{NXH}$\n",
    "* $\\hat{y}$ = prediction | $\\in \\mathbb{R}^{NXC}$ ($N$ is the number of samples)\n",
    "* bias term ($b$) excluded to avoid crowding the notations"
   ]
  },
  {
   "cell_type": "markdown",
   "metadata": {
    "id": "JqxyljU18hvt"
   },
   "source": [
    "* **Objective:**  Predict the probability of class $y$ given the inputs $X$. Non-linearity is introduced to model the complex, non-linear data.\n",
    "* **Advantages:**\n",
    "  * Can model non-linear patterns in the data really well.\n",
    "* **Disadvantages:**\n",
    "  * Overfits easily.\n",
    "  * Computationally intensive as network increases in size.\n",
    "  * Not easily interpretable.\n",
    "* **Miscellaneous:** Future neural network architectures that we'll see use the MLP as a modular unit for feed forward operations (affine transformation (XW) followed by a non-linear operation)."
   ]
  },
  {
   "cell_type": "markdown",
   "metadata": {
    "id": "9vbZa-cxlujX"
   },
   "source": [
    "# Set up"
   ]
  },
  {
   "cell_type": "code",
   "execution_count": 1,
   "metadata": {
    "id": "uQNbn5-LFO7w"
   },
   "outputs": [],
   "source": [
    "import numpy as np\n",
    "import random"
   ]
  },
  {
   "cell_type": "code",
   "execution_count": 2,
   "metadata": {
    "id": "_cRUTo0hFO-i"
   },
   "outputs": [],
   "source": [
    "SEED = 1234"
   ]
  },
  {
   "cell_type": "code",
   "execution_count": 3,
   "metadata": {
    "id": "EU0SEgIFFPA-"
   },
   "outputs": [],
   "source": [
    "# Set seed for reproducibility\n",
    "np.random.seed(SEED)\n",
    "random.seed(SEED)"
   ]
  },
  {
   "cell_type": "markdown",
   "metadata": {
    "id": "XtKqNioAayCy"
   },
   "source": [
    "## Load data"
   ]
  },
  {
   "cell_type": "markdown",
   "metadata": {
    "id": "X3OrtMpFayFC"
   },
   "source": [
    "I created some non-linearly separable spiral data so let's go ahead and download it for our classification task."
   ]
  },
  {
   "cell_type": "code",
   "execution_count": 4,
   "metadata": {
    "id": "9NfIz_4OPYpG"
   },
   "outputs": [],
   "source": [
    "import matplotlib.pyplot as plt\n",
    "import pandas as pd"
   ]
  },
  {
   "cell_type": "code",
   "execution_count": 5,
   "metadata": {
    "colab": {
     "base_uri": "https://localhost:8080/",
     "height": 204
    },
    "executionInfo": {
     "elapsed": 1382,
     "status": "ok",
     "timestamp": 1608144412889,
     "user": {
      "displayName": "Goku Mohandas",
      "photoUrl": "https://lh3.googleusercontent.com/a-/AOh14GjMIOf3R_zwS_zZx4ZyPMtQe0lOkGpPOEUEKWpM7g=s64",
      "userId": "00378334517810298963"
     },
     "user_tz": 420
    },
    "id": "efS3lVYETA17",
    "outputId": "d5bfe7e8-adbb-48c5-a915-cc43f4a6fc41"
   },
   "outputs": [
    {
     "data": {
      "text/html": [
       "<div>\n",
       "<style scoped>\n",
       "    .dataframe tbody tr th:only-of-type {\n",
       "        vertical-align: middle;\n",
       "    }\n",
       "\n",
       "    .dataframe tbody tr th {\n",
       "        vertical-align: top;\n",
       "    }\n",
       "\n",
       "    .dataframe thead th {\n",
       "        text-align: right;\n",
       "    }\n",
       "</style>\n",
       "<table border=\"1\" class=\"dataframe\">\n",
       "  <thead>\n",
       "    <tr style=\"text-align: right;\">\n",
       "      <th></th>\n",
       "      <th>X1</th>\n",
       "      <th>X2</th>\n",
       "      <th>color</th>\n",
       "    </tr>\n",
       "  </thead>\n",
       "  <tbody>\n",
       "    <tr>\n",
       "      <th>0</th>\n",
       "      <td>0.106737</td>\n",
       "      <td>0.114197</td>\n",
       "      <td>c1</td>\n",
       "    </tr>\n",
       "    <tr>\n",
       "      <th>1</th>\n",
       "      <td>0.311513</td>\n",
       "      <td>-0.664028</td>\n",
       "      <td>c1</td>\n",
       "    </tr>\n",
       "    <tr>\n",
       "      <th>2</th>\n",
       "      <td>0.019870</td>\n",
       "      <td>-0.703126</td>\n",
       "      <td>c1</td>\n",
       "    </tr>\n",
       "    <tr>\n",
       "      <th>3</th>\n",
       "      <td>-0.054017</td>\n",
       "      <td>0.508159</td>\n",
       "      <td>c3</td>\n",
       "    </tr>\n",
       "    <tr>\n",
       "      <th>4</th>\n",
       "      <td>-0.127751</td>\n",
       "      <td>-0.011382</td>\n",
       "      <td>c3</td>\n",
       "    </tr>\n",
       "  </tbody>\n",
       "</table>\n",
       "</div>"
      ],
      "text/plain": [
       "         X1        X2 color\n",
       "0  0.106737  0.114197    c1\n",
       "1  0.311513 -0.664028    c1\n",
       "2  0.019870 -0.703126    c1\n",
       "3 -0.054017  0.508159    c3\n",
       "4 -0.127751 -0.011382    c3"
      ]
     },
     "execution_count": 5,
     "metadata": {},
     "output_type": "execute_result"
    }
   ],
   "source": [
    "# Load data\n",
    "url = \"https://raw.githubusercontent.com/GokuMohandas/Made-With-ML/main/datasets/spiral.csv\"\n",
    "df = pd.read_csv(url, header=0) # load\n",
    "df = df.sample(frac=1).reset_index(drop=True) # shuffle\n",
    "df.head()"
   ]
  },
  {
   "cell_type": "code",
   "execution_count": 6,
   "metadata": {
    "colab": {
     "base_uri": "https://localhost:8080/"
    },
    "executionInfo": {
     "elapsed": 1366,
     "status": "ok",
     "timestamp": 1608144412890,
     "user": {
      "displayName": "Goku Mohandas",
      "photoUrl": "https://lh3.googleusercontent.com/a-/AOh14GjMIOf3R_zwS_zZx4ZyPMtQe0lOkGpPOEUEKWpM7g=s64",
      "userId": "00378334517810298963"
     },
     "user_tz": 420
    },
    "id": "jmTwuA9kHjhA",
    "outputId": "651df414-5f2e-417a-beb5-cc66924c7a45"
   },
   "outputs": [
    {
     "name": "stdout",
     "output_type": "stream",
     "text": [
      "X:  (1500, 2)\n",
      "y:  (1500,)\n"
     ]
    }
   ],
   "source": [
    "# Data shapes\n",
    "X = df[[\"X1\", \"X2\"]].values\n",
    "y = df[\"color\"].values\n",
    "print (\"X: \", np.shape(X))\n",
    "print (\"y: \", np.shape(y))"
   ]
  },
  {
   "cell_type": "code",
   "execution_count": 7,
   "metadata": {
    "colab": {
     "base_uri": "https://localhost:8080/",
     "height": 281
    },
    "executionInfo": {
     "elapsed": 1858,
     "status": "ok",
     "timestamp": 1608144413399,
     "user": {
      "displayName": "Goku Mohandas",
      "photoUrl": "https://lh3.googleusercontent.com/a-/AOh14GjMIOf3R_zwS_zZx4ZyPMtQe0lOkGpPOEUEKWpM7g=s64",
      "userId": "00378334517810298963"
     },
     "user_tz": 420
    },
    "id": "jgVjStv8VnX2",
    "outputId": "1961a014-1a94-46a3-8a61-94cd6db93c9b"
   },
   "outputs": [
    {
     "data": {
      "image/png": "[encoded data removed]",
      "text/plain": [
       "<Figure size 432x288 with 1 Axes>"
      ]
     },
     "metadata": {},
     "output_type": "display_data"
    }
   ],
   "source": [
    "# Visualize data\n",
    "plt.title(\"Generated non-linear data\")\n",
    "colors = {\"c1\": \"red\", \"c2\": \"yellow\", \"c3\": \"blue\"}\n",
    "plt.scatter(X[:, 0], X[:, 1], c=[colors[_y] for _y in y], edgecolors=\"k\", s=25)\n",
    "plt.show()"
   ]
  },
  {
   "cell_type": "markdown",
   "metadata": {
    "id": "f01ldQXXS3lc"
   },
   "source": [
    "## Split data"
   ]
  },
  {
   "cell_type": "markdown",
   "metadata": {
    "id": "-wZmsNeUf7Ky"
   },
   "source": [
    "We'll shuffle our dataset (since it's ordered by class) and then create our data splits (stratified on class)."
   ]
  },
  {
   "cell_type": "code",
   "execution_count": 8,
   "metadata": {
    "id": "a7HwlgP9-G52"
   },
   "outputs": [],
   "source": [
    "import collections\n",
    "from sklearn.model_selection import train_test_split"
   ]
  },
  {
   "cell_type": "code",
   "execution_count": 9,
   "metadata": {
    "id": "wRVOgVxDDcx3"
   },
   "outputs": [],
   "source": [
    "TRAIN_SIZE = 0.7\n",
    "VAL_SIZE = 0.15\n",
    "TEST_SIZE = 0.15"
   ]
  },
  {
   "cell_type": "code",
   "execution_count": 10,
   "metadata": {
    "id": "Ad9RNqcQf2cA"
   },
   "outputs": [],
   "source": [
    "def train_val_test_split(X, y, train_size):\n",
    "    \"\"\"Split dataset into data splits.\"\"\"\n",
    "    X_train, X_, y_train, y_ = train_test_split(X, y, train_size=TRAIN_SIZE, stratify=y)\n",
    "    X_val, X_test, y_val, y_test = train_test_split(X_, y_, train_size=0.5, stratify=y_)\n",
    "    return X_train, X_val, X_test, y_train, y_val, y_test"
   ]
  },
  {
   "cell_type": "code",
   "execution_count": 11,
   "metadata": {
    "colab": {
     "base_uri": "https://localhost:8080/"
    },
    "executionInfo": {
     "elapsed": 2750,
     "status": "ok",
     "timestamp": 1608144414313,
     "user": {
      "displayName": "Goku Mohandas",
      "photoUrl": "https://lh3.googleusercontent.com/a-/AOh14GjMIOf3R_zwS_zZx4ZyPMtQe0lOkGpPOEUEKWpM7g=s64",
      "userId": "00378334517810298963"
     },
     "user_tz": 420
    },
    "id": "gGFqcqTDXhkl",
    "outputId": "e1c918fc-5843-474a-ca34-b39cbb38b38d"
   },
   "outputs": [
    {
     "name": "stdout",
     "output_type": "stream",
     "text": [
      "X_train: (1050, 2), y_train: (1050,)\n",
      "X_val: (225, 2), y_val: (225,)\n",
      "X_test: (225, 2), y_test: (225,)\n",
      "Sample point: [-0.63919105 -0.69724176] → c1\n"
     ]
    }
   ],
   "source": [
    "# Create data splits\n",
    "X_train, X_val, X_test, y_train, y_val, y_test = train_val_test_split(\n",
    "    X=X, y=y, train_size=TRAIN_SIZE)\n",
    "print (f\"X_train: {X_train.shape}, y_train: {y_train.shape}\")\n",
    "print (f\"X_val: {X_val.shape}, y_val: {y_val.shape}\")\n",
    "print (f\"X_test: {X_test.shape}, y_test: {y_test.shape}\")\n",
    "print (f\"Sample point: {X_train[0]} → {y_train[0]}\")"
   ]
  },
  {
   "cell_type": "markdown",
   "metadata": {
    "id": "w8EQEwO2OWfN"
   },
   "source": [
    "## Label encoding"
   ]
  },
  {
   "cell_type": "markdown",
   "metadata": {
    "id": "6fd9d-NSgH6D"
   },
   "source": [
    "In the previous lesson we wrote our own label encoder class to see the inner functions but this time we'll use scikit-learn [`LabelEncoder`](https://scikit-learn.org/stable/modules/generated/sklearn.preprocessing.LabelEncoder.html) class which does the same operations as ours."
   ]
  },
  {
   "cell_type": "code",
   "execution_count": 12,
   "metadata": {
    "id": "0ldFOhAqObcd"
   },
   "outputs": [],
   "source": [
    "from sklearn.preprocessing import LabelEncoder"
   ]
  },
  {
   "cell_type": "code",
   "execution_count": 13,
   "metadata": {
    "id": "mYjAYlTdObf0"
   },
   "outputs": [],
   "source": [
    "# Output vectorizer\n",
    "label_encoder = LabelEncoder()"
   ]
  },
  {
   "cell_type": "code",
   "execution_count": 14,
   "metadata": {
    "colab": {
     "base_uri": "https://localhost:8080/"
    },
    "executionInfo": {
     "elapsed": 2734,
     "status": "ok",
     "timestamp": 1608144414316,
     "user": {
      "displayName": "Goku Mohandas",
      "photoUrl": "https://lh3.googleusercontent.com/a-/AOh14GjMIOf3R_zwS_zZx4ZyPMtQe0lOkGpPOEUEKWpM7g=s64",
      "userId": "00378334517810298963"
     },
     "user_tz": 420
    },
    "id": "VO1uxrdgObkf",
    "outputId": "da263506-485f-4867-d9cf-f420288badb5"
   },
   "outputs": [
    {
     "name": "stdout",
     "output_type": "stream",
     "text": [
      "classes: ['c1', 'c2', 'c3']\n"
     ]
    }
   ],
   "source": [
    "# Fit on train data\n",
    "label_encoder = label_encoder.fit(y_train)\n",
    "classes = list(label_encoder.classes_)\n",
    "print (f\"classes: {classes}\")"
   ]
  },
  {
   "cell_type": "code",
   "execution_count": 15,
   "metadata": {
    "colab": {
     "base_uri": "https://localhost:8080/"
    },
    "executionInfo": {
     "elapsed": 2719,
     "status": "ok",
     "timestamp": 1608144414316,
     "user": {
      "displayName": "Goku Mohandas",
      "photoUrl": "https://lh3.googleusercontent.com/a-/AOh14GjMIOf3R_zwS_zZx4ZyPMtQe0lOkGpPOEUEKWpM7g=s64",
      "userId": "00378334517810298963"
     },
     "user_tz": 420
    },
    "id": "1t9vjih9Oeq9",
    "outputId": "10f3056c-756d-4bc1-e7e0-f8c7a0186cbd"
   },
   "outputs": [
    {
     "name": "stdout",
     "output_type": "stream",
     "text": [
      "y_train[0]: c1\n",
      "y_train[0]: 0\n"
     ]
    }
   ],
   "source": [
    "# Convert labels to tokens\n",
    "print (f\"y_train[0]: {y_train[0]}\")\n",
    "y_train = label_encoder.transform(y_train)\n",
    "y_val = label_encoder.transform(y_val)\n",
    "y_test = label_encoder.transform(y_test)\n",
    "print (f\"y_train[0]: {y_train[0]}\")"
   ]
  },
  {
   "cell_type": "code",
   "execution_count": 16,
   "metadata": {
    "colab": {
     "base_uri": "https://localhost:8080/"
    },
    "executionInfo": {
     "elapsed": 2705,
     "status": "ok",
     "timestamp": 1608144414317,
     "user": {
      "displayName": "Goku Mohandas",
      "photoUrl": "https://lh3.googleusercontent.com/a-/AOh14GjMIOf3R_zwS_zZx4ZyPMtQe0lOkGpPOEUEKWpM7g=s64",
      "userId": "00378334517810298963"
     },
     "user_tz": 420
    },
    "id": "QVgNHgSkInPE",
    "outputId": "f26dcec4-f612-4773-ff85-978ca6c89c87"
   },
   "outputs": [
    {
     "name": "stdout",
     "output_type": "stream",
     "text": [
      "counts: [350 350 350]\n",
      "weights: {0: 0.002857142857142857, 1: 0.002857142857142857, 2: 0.002857142857142857}\n"
     ]
    }
   ],
   "source": [
    "# Class weights\n",
    "counts = np.bincount(y_train)\n",
    "class_weights = {i: 1.0/count for i, count in enumerate(counts)}\n",
    "print (f\"counts: {counts}\\nweights: {class_weights}\")"
   ]
  },
  {
   "cell_type": "markdown",
   "metadata": {
    "id": "MDFM5gQte5rQ"
   },
   "source": [
    "## Standardize data"
   ]
  },
  {
   "cell_type": "markdown",
   "metadata": {
    "id": "JlmiwCUre_ZH"
   },
   "source": [
    "We need to standardize our data (zero mean and unit variance) so a specific feature's magnitude doesn't affect how the model learns its weights. We're only going to standardize the inputs X because our outputs y are class values."
   ]
  },
  {
   "cell_type": "code",
   "execution_count": 17,
   "metadata": {
    "id": "D4uCG3vMe52J"
   },
   "outputs": [],
   "source": [
    "from sklearn.preprocessing import StandardScaler"
   ]
  },
  {
   "cell_type": "code",
   "execution_count": 18,
   "metadata": {
    "id": "3tTbwUOme5z7"
   },
   "outputs": [],
   "source": [
    "# Standardize the data (mean=0, std=1) using training data\n",
    "X_scaler = StandardScaler().fit(X_train)"
   ]
  },
  {
   "cell_type": "code",
   "execution_count": 19,
   "metadata": {
    "id": "zGTQNaRie5xb"
   },
   "outputs": [],
   "source": [
    "# Apply scaler on training and test data (don't standardize outputs for classification)\n",
    "X_train = X_scaler.transform(X_train)\n",
    "X_val = X_scaler.transform(X_val)\n",
    "X_test = X_scaler.transform(X_test)"
   ]
  },
  {
   "cell_type": "code",
   "execution_count": 20,
   "metadata": {
    "colab": {
     "base_uri": "https://localhost:8080/"
    },
    "executionInfo": {
     "elapsed": 2986,
     "status": "ok",
     "timestamp": 1608144414618,
     "user": {
      "displayName": "Goku Mohandas",
      "photoUrl": "https://lh3.googleusercontent.com/a-/AOh14GjMIOf3R_zwS_zZx4ZyPMtQe0lOkGpPOEUEKWpM7g=s64",
      "userId": "00378334517810298963"
     },
     "user_tz": 420
    },
    "id": "dstH0Cm-fLgK",
    "outputId": "2f05b456-85ef-463a-e699-9e1e6ff7dce8"
   },
   "outputs": [
    {
     "name": "stdout",
     "output_type": "stream",
     "text": [
      "X_test[0]: mean: 0.1, std: 0.9\n",
      "X_test[1]: mean: 0.0, std: 1.0\n"
     ]
    }
   ],
   "source": [
    "# Check (means should be ~0 and std should be ~1)\n",
    "print (f\"X_test[0]: mean: {np.mean(X_test[:, 0], axis=0):.1f}, std: {np.std(X_test[:, 0], axis=0):.1f}\")\n",
    "print (f\"X_test[1]: mean: {np.mean(X_test[:, 1], axis=0):.1f}, std: {np.std(X_test[:, 1], axis=0):.1f}\")"
   ]
  },
  {
   "cell_type": "markdown",
   "metadata": {
    "id": "IHofozO7RIiV"
   },
   "source": [
    "# Linear model"
   ]
  },
  {
   "cell_type": "markdown",
   "metadata": {
    "id": "DlVmr5XkRMCf"
   },
   "source": [
    "Before we get to our neural network, we're going to motivate non-linear activation functions by implementing a generalized linear model (logistic regression). We'll see why linear models (with linear activations) won't suffice for our dataset."
   ]
  },
  {
   "cell_type": "code",
   "execution_count": 43,
   "metadata": {
    "id": "4K2qHbffAeGL"
   },
   "outputs": [],
   "source": [
    "import torch"
   ]
  },
  {
   "cell_type": "code",
   "execution_count": 44,
   "metadata": {
    "colab": {
     "base_uri": "https://localhost:8080/"
    },
    "executionInfo": {
     "elapsed": 5647,
     "status": "ok",
     "timestamp": 1608144417297,
     "user": {
      "displayName": "Goku Mohandas",
      "photoUrl": "https://lh3.googleusercontent.com/a-/AOh14GjMIOf3R_zwS_zZx4ZyPMtQe0lOkGpPOEUEKWpM7g=s64",
      "userId": "00378334517810298963"
     },
     "user_tz": 420
    },
    "id": "bn9Kr2XrAeCR",
    "outputId": "726bfbeb-9474-46b1-8659-2decbc745a30"
   },
   "outputs": [
    {
     "data": {
      "text/plain": [
       "<torch._C.Generator at 0x26e6e0484d0>"
      ]
     },
     "execution_count": 44,
     "metadata": {},
     "output_type": "execute_result"
    }
   ],
   "source": [
    "# Set seed for reproducibility\n",
    "torch.manual_seed(SEED)"
   ]
  },
  {
   "cell_type": "markdown",
   "metadata": {
    "id": "5YkMN-nU-gz7"
   },
   "source": [
    "## Model"
   ]
  },
  {
   "cell_type": "code",
   "execution_count": 45,
   "metadata": {
    "id": "hMzXPa6g-467"
   },
   "outputs": [],
   "source": [
    "from torch import nn\n",
    "import torch.nn.functional as F"
   ]
  },
  {
   "cell_type": "code",
   "execution_count": 46,
   "metadata": {
    "id": "RJlz9hEe_2xX"
   },
   "outputs": [],
   "source": [
    "INPUT_DIM = X_train.shape[1] # X is 2-dimensional\n",
    "HIDDEN_DIM = 100\n",
    "NUM_CLASSES = len(classes) # 3 classes"
   ]
  },
  {
   "cell_type": "code",
   "execution_count": 47,
   "metadata": {
    "id": "oolBQZaE-43y"
   },
   "outputs": [],
   "source": [
    "class LinearModel(nn.Module):\n",
    "    def __init__(self, input_dim, hidden_dim, num_classes):\n",
    "        super(LinearModel, self).__init__()\n",
    "        self.fc1 = nn.Linear(input_dim, hidden_dim)\n",
    "        self.fc2 = nn.Linear(hidden_dim, num_classes)\n",
    "        \n",
    "    def forward(self, x_in, apply_softmax=False):\n",
    "        z = self.fc1(x_in) # linear activation\n",
    "        y_pred = self.fc2(z)\n",
    "        if apply_softmax:\n",
    "            y_pred = F.softmax(y_pred, dim=1) \n",
    "        return y_pred"
   ]
  },
  {
   "cell_type": "code",
   "execution_count": 48,
   "metadata": {
    "colab": {
     "base_uri": "https://localhost:8080/"
    },
    "executionInfo": {
     "elapsed": 5628,
     "status": "ok",
     "timestamp": 1608144417299,
     "user": {
      "displayName": "Goku Mohandas",
      "photoUrl": "https://lh3.googleusercontent.com/a-/AOh14GjMIOf3R_zwS_zZx4ZyPMtQe0lOkGpPOEUEKWpM7g=s64",
      "userId": "00378334517810298963"
     },
     "user_tz": 420
    },
    "id": "q1aORSTK-41F",
    "outputId": "582fe193-702d-47f5-83d1-23e03f738152"
   },
   "outputs": [
    {
     "name": "stdout",
     "output_type": "stream",
     "text": [
      "<bound method Module.named_parameters of LinearModel(\n",
      "  (fc1): Linear(in_features=2, out_features=100, bias=True)\n",
      "  (fc2): Linear(in_features=100, out_features=3, bias=True)\n",
      ")>\n"
     ]
    }
   ],
   "source": [
    "# Initialize model\n",
    "model = LinearModel(input_dim=INPUT_DIM, hidden_dim=HIDDEN_DIM, num_classes=NUM_CLASSES)\n",
    "print (model.named_parameters)"
   ]
  },
  {
   "cell_type": "markdown",
   "metadata": {
    "id": "AUdgkiuRBZIo"
   },
   "source": [
    "## Training"
   ]
  },
  {
   "cell_type": "code",
   "execution_count": 30,
   "metadata": {
    "id": "SiqIcs6FBo70"
   },
   "outputs": [],
   "source": [
    "from torch.optim import Adam"
   ]
  },
  {
   "cell_type": "code",
   "execution_count": 31,
   "metadata": {
    "id": "UmOydQRnBYqc"
   },
   "outputs": [],
   "source": [
    "LEARNING_RATE = 1e-2\n",
    "NUM_EPOCHS = 10\n",
    "BATCH_SIZE = 32"
   ]
  },
  {
   "cell_type": "code",
   "execution_count": 32,
   "metadata": {
    "id": "qg8YRdv9AZ6p"
   },
   "outputs": [],
   "source": [
    "# Define Loss\n",
    "class_weights_tensor = torch.Tensor(list(class_weights.values()))\n",
    "loss_fn = nn.CrossEntropyLoss(weight=class_weights_tensor)"
   ]
  },
  {
   "cell_type": "code",
   "execution_count": 33,
   "metadata": {
    "id": "NFwrk5E2AZ2g"
   },
   "outputs": [],
   "source": [
    "# Accuracy\n",
    "def accuracy_fn(y_pred, y_true):\n",
    "    n_correct = torch.eq(y_pred, y_true).sum().item()\n",
    "    accuracy = (n_correct / len(y_pred)) * 100\n",
    "    return accuracy"
   ]
  },
  {
   "cell_type": "code",
   "execution_count": 34,
   "metadata": {
    "id": "dVA58YPNc2_f"
   },
   "outputs": [],
   "source": [
    "# Optimizer\n",
    "optimizer = Adam(model.parameters(), lr=LEARNING_RATE) "
   ]
  },
  {
   "cell_type": "code",
   "execution_count": 35,
   "metadata": {
    "id": "bpBgduAbadfa"
   },
   "outputs": [],
   "source": [
    "# Convert data to tensors\n",
    "X_train = torch.Tensor(X_train)\n",
    "y_train = torch.LongTensor(y_train)\n",
    "X_val = torch.Tensor(X_val)\n",
    "y_val = torch.LongTensor(y_val)\n",
    "X_test = torch.Tensor(X_test)\n",
    "y_test = torch.LongTensor(y_test)"
   ]
  },
  {
   "cell_type": "code",
   "execution_count": 36,
   "metadata": {
    "colab": {
     "base_uri": "https://localhost:8080/"
    },
    "executionInfo": {
     "elapsed": 6046,
     "status": "ok",
     "timestamp": 1608144417744,
     "user": {
      "displayName": "Goku Mohandas",
      "photoUrl": "https://lh3.googleusercontent.com/a-/AOh14GjMIOf3R_zwS_zZx4ZyPMtQe0lOkGpPOEUEKWpM7g=s64",
      "userId": "00378334517810298963"
     },
     "user_tz": 420
    },
    "id": "47LEsByWc3bp",
    "outputId": "26fe1bb9-6b74-40c1-c65e-cc7478de98ba"
   },
   "outputs": [
    {
     "name": "stdout",
     "output_type": "stream",
     "text": [
      "Epoch: 0 | loss: 1.13, accuracy: 49.9\n",
      "Epoch: 1 | loss: 0.91, accuracy: 50.3\n",
      "Epoch: 2 | loss: 0.79, accuracy: 55.3\n",
      "Epoch: 3 | loss: 0.74, accuracy: 54.6\n",
      "Epoch: 4 | loss: 0.74, accuracy: 53.7\n",
      "Epoch: 5 | loss: 0.75, accuracy: 53.6\n",
      "Epoch: 6 | loss: 0.76, accuracy: 53.7\n",
      "Epoch: 7 | loss: 0.77, accuracy: 53.8\n",
      "Epoch: 8 | loss: 0.77, accuracy: 53.9\n",
      "Epoch: 9 | loss: 0.78, accuracy: 53.9\n"
     ]
    }
   ],
   "source": [
    "# Training\n",
    "for epoch in range(NUM_EPOCHS):\n",
    "    # Forward pass\n",
    "    y_pred = model(X_train)\n",
    "\n",
    "    # Loss\n",
    "    loss = loss_fn(y_pred, y_train)\n",
    "\n",
    "    # Zero all gradients\n",
    "    optimizer.zero_grad()\n",
    "\n",
    "    # Backward pass\n",
    "    loss.backward()\n",
    "\n",
    "    # Update weights\n",
    "    optimizer.step()\n",
    "\n",
    "    if epoch%1==0: \n",
    "        predictions = y_pred.max(dim=1)[1] # class\n",
    "        accuracy = accuracy_fn(y_pred=predictions, y_true=y_train)\n",
    "        print (f\"Epoch: {epoch} | loss: {loss:.2f}, accuracy: {accuracy:.1f}\")"
   ]
  },
  {
   "cell_type": "markdown",
   "metadata": {
    "id": "_gIcdLFeCLR_"
   },
   "source": [
    "## Evaluation"
   ]
  },
  {
   "cell_type": "code",
   "execution_count": 37,
   "metadata": {
    "id": "TyfL-k6uBzMW"
   },
   "outputs": [],
   "source": [
    "import json\n",
    "import matplotlib.pyplot as plt\n",
    "from sklearn.metrics import precision_recall_fscore_support"
   ]
  },
  {
   "cell_type": "code",
   "execution_count": 38,
   "metadata": {
    "id": "55oQ-dCfgv2T"
   },
   "outputs": [],
   "source": [
    "def get_performance(y_true, y_pred, classes):\n",
    "    \"\"\"Per-class performance metrics.\"\"\"\n",
    "    # Performance\n",
    "    performance = {\"overall\": {}, \"class\": {}}\n",
    "\n",
    "    # Overall performance\n",
    "    metrics = precision_recall_fscore_support(y_true, y_pred, average=\"weighted\")\n",
    "    performance[\"overall\"][\"precision\"] = metrics[0]\n",
    "    performance[\"overall\"][\"recall\"] = metrics[1]\n",
    "    performance[\"overall\"][\"f1\"] = metrics[2]\n",
    "    performance[\"overall\"][\"num_samples\"] = np.float64(len(y_true))\n",
    "\n",
    "    # Per-class performance\n",
    "    metrics = precision_recall_fscore_support(y_true, y_pred, average=None)\n",
    "    for i in range(len(classes)):\n",
    "        performance[\"class\"][classes[i]] = {\n",
    "            \"precision\": metrics[0][i],\n",
    "            \"recall\": metrics[1][i],\n",
    "            \"f1\": metrics[2][i],\n",
    "            \"num_samples\": np.float64(metrics[3][i]),\n",
    "        }\n",
    "\n",
    "    return performance"
   ]
  },
  {
   "cell_type": "code",
   "execution_count": 39,
   "metadata": {
    "colab": {
     "base_uri": "https://localhost:8080/"
    },
    "executionInfo": {
     "elapsed": 6030,
     "status": "ok",
     "timestamp": 1608144417746,
     "user": {
      "displayName": "Goku Mohandas",
      "photoUrl": "https://lh3.googleusercontent.com/a-/AOh14GjMIOf3R_zwS_zZx4ZyPMtQe0lOkGpPOEUEKWpM7g=s64",
      "userId": "00378334517810298963"
     },
     "user_tz": 420
    },
    "id": "Au0tESHKC8Rj",
    "outputId": "4bee4ecb-51d6-409f-d898-ac58b210dd09"
   },
   "outputs": [
    {
     "name": "stdout",
     "output_type": "stream",
     "text": [
      "sample probability: tensor([0.8995, 0.0286, 0.0719], grad_fn=<SelectBackward0>)\n",
      "sample class: 0\n"
     ]
    }
   ],
   "source": [
    "# Predictions\n",
    "y_prob = model(X_test, apply_softmax=True)\n",
    "print (f\"sample probability: {y_prob[0]}\")\n",
    "y_pred = y_prob.max(dim=1)[1]\n",
    "print (f\"sample class: {y_pred[0]}\")"
   ]
  },
  {
   "cell_type": "code",
   "execution_count": 40,
   "metadata": {
    "colab": {
     "base_uri": "https://localhost:8080/"
    },
    "executionInfo": {
     "elapsed": 6016,
     "status": "ok",
     "timestamp": 1608144417747,
     "user": {
      "displayName": "Goku Mohandas",
      "photoUrl": "https://lh3.googleusercontent.com/a-/AOh14GjMIOf3R_zwS_zZx4ZyPMtQe0lOkGpPOEUEKWpM7g=s64",
      "userId": "00378334517810298963"
     },
     "user_tz": 420
    },
    "id": "LfvOtw6lgv5E",
    "outputId": "df2b1b8e-775e-40e6-9312-6980cac8e6ed"
   },
   "outputs": [
    {
     "name": "stdout",
     "output_type": "stream",
     "text": [
      "{\n",
      "  \"overall\": {\n",
      "    \"precision\": 0.5326832791621523,\n",
      "    \"recall\": 0.5333333333333333,\n",
      "    \"f1\": 0.5327986224880954,\n",
      "    \"num_samples\": 225.0\n",
      "  },\n",
      "  \"class\": {\n",
      "    \"c1\": {\n",
      "      \"precision\": 0.5,\n",
      "      \"recall\": 0.5066666666666667,\n",
      "      \"f1\": 0.5033112582781457,\n",
      "      \"num_samples\": 75.0\n",
      "    },\n",
      "    \"c2\": {\n",
      "      \"precision\": 0.5211267605633803,\n",
      "      \"recall\": 0.49333333333333335,\n",
      "      \"f1\": 0.5068493150684932,\n",
      "      \"num_samples\": 75.0\n",
      "    },\n",
      "    \"c3\": {\n",
      "      \"precision\": 0.5769230769230769,\n",
      "      \"recall\": 0.6,\n",
      "      \"f1\": 0.5882352941176471,\n",
      "      \"num_samples\": 75.0\n",
      "    }\n",
      "  }\n",
      "}\n"
     ]
    }
   ],
   "source": [
    "# Performance\n",
    "performance = get_performance(y_true=y_test, y_pred=y_pred, classes=classes)\n",
    "print (json.dumps(performance, indent=2))"
   ]
  },
  {
   "cell_type": "code",
   "execution_count": 41,
   "metadata": {
    "id": "gdzQ8LVuGJL3"
   },
   "outputs": [],
   "source": [
    "def plot_multiclass_decision_boundary(model, X, y):\n",
    "    x_min, x_max = X[:, 0].min() - 0.1, X[:, 0].max() + 0.1\n",
    "    y_min, y_max = X[:, 1].min() - 0.1, X[:, 1].max() + 0.1\n",
    "    xx, yy = np.meshgrid(np.linspace(x_min, x_max, 101), np.linspace(y_min, y_max, 101))\n",
    "    cmap = plt.cm.Spectral\n",
    "    \n",
    "    X_test = torch.from_numpy(np.c_[xx.ravel(), yy.ravel()]).float()\n",
    "    y_pred = model(X_test, apply_softmax=True)\n",
    "    _, y_pred = y_pred.max(dim=1)\n",
    "    y_pred = y_pred.reshape(xx.shape)\n",
    "    plt.contourf(xx, yy, y_pred, cmap=plt.cm.Spectral, alpha=0.8)\n",
    "    plt.scatter(X[:, 0], X[:, 1], c=y, s=40, cmap=plt.cm.RdYlBu)\n",
    "    plt.xlim(xx.min(), xx.max())\n",
    "    plt.ylim(yy.min(), yy.max())"
   ]
  },
  {
   "cell_type": "code",
   "execution_count": 42,
   "metadata": {
    "colab": {
     "base_uri": "https://localhost:8080/",
     "height": 336
    },
    "executionInfo": {
     "elapsed": 6560,
     "status": "ok",
     "timestamp": 1608144418309,
     "user": {
      "displayName": "Goku Mohandas",
      "photoUrl": "https://lh3.googleusercontent.com/a-/AOh14GjMIOf3R_zwS_zZx4ZyPMtQe0lOkGpPOEUEKWpM7g=s64",
      "userId": "00378334517810298963"
     },
     "user_tz": 420
    },
    "id": "gGfevv1kusw8",
    "outputId": "9a289170-94e6-4de6-bb96-1bcfd1d172ea"
   },
   "outputs": [
    {
     "data": {
      "image/png": "[encoded data removed]",
      "text/plain": [
       "<Figure size 864x360 with 2 Axes>"
      ]
     },
     "metadata": {},
     "output_type": "display_data"
    }
   ],
   "source": [
    "# Visualize the decision boundary\n",
    "plt.figure(figsize=(12,5))\n",
    "plt.subplot(1, 2, 1)\n",
    "plt.title(\"Train\")\n",
    "plot_multiclass_decision_boundary(model=model, X=X_train, y=y_train)\n",
    "plt.subplot(1, 2, 2)\n",
    "plt.title(\"Test\")\n",
    "plot_multiclass_decision_boundary(model=model, X=X_test, y=y_test)\n",
    "plt.show()"
   ]
  },
  {
   "cell_type": "markdown",
   "metadata": {
    "id": "R3OK8p-Ng3BC"
   },
   "source": [
    "# Activation functions"
   ]
  },
  {
   "cell_type": "markdown",
   "metadata": {
    "id": "ghf5uLuhg3D0"
   },
   "source": [
    "Using the generalized linear method (logistic regression) yielded poor results because of the non-linearity present in our data yet our activation functions were linear. We need to use an activation function that can allow our model to learn and map the non-linearity in our data. There are many different options so let's explore a few."
   ]
  },
  {
   "cell_type": "code",
   "execution_count": 50,
   "metadata": {
    "colab": {
     "base_uri": "https://localhost:8080/",
     "height": 227
    },
    "executionInfo": {
     "elapsed": 6725,
     "status": "ok",
     "timestamp": 1608144418490,
     "user": {
      "displayName": "Goku Mohandas",
      "photoUrl": "https://lh3.googleusercontent.com/a-/AOh14GjMIOf3R_zwS_zZx4ZyPMtQe0lOkGpPOEUEKWpM7g=s64",
      "userId": "00378334517810298963"
     },
     "user_tz": 420
    },
    "id": "ivnfSKEhg3Md",
    "outputId": "e5dfbff3-8adf-4d34-87b4-cb25e7c9ed4b"
   },
   "outputs": [
    {
     "data": {
      "image/png": "[encoded data removed]",
      "text/plain": [
       "<Figure size 864x216 with 3 Axes>"
      ]
     },
     "metadata": {},
     "output_type": "display_data"
    }
   ],
   "source": [
    "# Fig size\n",
    "plt.figure(figsize=(12,3))\n",
    "\n",
    "# Data\n",
    "x = torch.arange(-5., 5., 0.1)\n",
    "\n",
    "# Sigmoid activation (constrain a value between 0 and 1.)\n",
    "plt.subplot(1, 3, 1)\n",
    "plt.title(\"Sigmoid activation\")\n",
    "y = torch.sigmoid(x)\n",
    "plt.plot(x.numpy(), y.numpy())\n",
    "\n",
    "# Tanh activation (constrain a value between -1 and 1.)\n",
    "plt.subplot(1, 3, 2)\n",
    "y = torch.tanh(x)\n",
    "plt.title(\"Tanh activation\")\n",
    "plt.plot(x.numpy(), y.numpy())\n",
    "\n",
    "# Relu (clip the negative values to 0)\n",
    "plt.subplot(1, 3, 3)\n",
    "y = F.relu(x)\n",
    "plt.title(\"ReLU activation\")\n",
    "plt.plot(x.numpy(), y.numpy())\n",
    "\n",
    "# Show plots\n",
    "plt.show()"
   ]
  },
  {
   "cell_type": "markdown",
   "metadata": {
    "id": "b_yo9fwwciDY"
   },
   "source": [
    "The ReLU activation function ($max(0,z)$) is by far the most widely used activation function for neural networks. But as you can see, each activation function has its own constraints so there are circumstances where you'll want to use different ones. For example, if we need to constrain our outputs between 0 and 1, then the sigmoid activation is the best choice."
   ]
  },
  {
   "cell_type": "markdown",
   "metadata": {
    "id": "u72au7H9oHk7"
   },
   "source": [
    "> In some cases, using a ReLU activation function may not be sufficient. For instance, when the outputs from our neurons are mostly negative, the activation function will produce zeros. This effectively creates a \"dying ReLU\" and a recovery is unlikely. To mitigate this effect, we could lower the learning rate or use [alternative ReLU activations](https://medium.com/@danqing/a-practical-guide-to-relu-b83ca804f1f7), ex. leaky ReLU or parametric ReLU (PReLU), which have a small slope for negative neuron outputs. "
   ]
  },
  {
   "cell_type": "markdown",
   "metadata": {
    "id": "xqWpi0X2dWpe"
   },
   "source": [
    "# NumPy\n",
    "\n",
    "Now let's create our multilayer perceptron (MLP) which is going to be exactly like the logistic regression model but with the activation function to map the non-linearity in our data. \n",
    "\n",
    "> It's normal to find the math and code in this section slightly complex. You can still read each of the steps to build intuition for when we implement this using PyTorch.\n"
   ]
  },
  {
   "cell_type": "markdown",
   "metadata": {
    "id": "0prEPVOlv1F4"
   },
   "source": [
    "Our goal is to learn a model  𝑦̂   that models  𝑦  given  𝑋 . You'll notice that neural networks are just extensions of the generalized linear methods we've seen so far but with non-linear activation functions since our data will be highly non-linear.\n",
    "\n",
    "$z_1 = XW_1$\n",
    "\n",
    "$a_1 = f(z_1)$\n",
    "\n",
    "$z_2 = a_1W_2$\n",
    "\n",
    "$\\hat{y} = softmax(z_2)$ # classification\n",
    "\n",
    "* $X$ = inputs | $\\in \\mathbb{R}^{NXD}$ ($D$ is the number of features)\n",
    "* $W_1$ = 1st layer weights | $\\in \\mathbb{R}^{DXH}$ ($H$ is the number of hidden units in layer 1)\n",
    "* $z_1$ = outputs from first layer  $\\in \\mathbb{R}^{NXH}$\n",
    "* $f$ = non-linear activation function\n",
    "* $a_1$ = activation applied first layer's outputs | $\\in \\mathbb{R}^{NXH}$\n",
    "* $W_2$ = 2nd layer weights | $\\in \\mathbb{R}^{HXC}$ ($C$ is the number of classes)\n",
    "* $z_2$ = outputs from second layer  $\\in \\mathbb{R}^{NXH}$\n",
    "* $\\hat{y}$ = prediction | $\\in \\mathbb{R}^{NXC}$ ($N$ is the number of samples)"
   ]
  },
  {
   "cell_type": "markdown",
   "metadata": {
    "id": "pB1N3X34EHLS"
   },
   "source": [
    "## Initialize weights"
   ]
  },
  {
   "cell_type": "markdown",
   "metadata": {
    "id": "a25Zg2yyvhKL"
   },
   "source": [
    "1. Randomly initialize the model's weights $W$ (we'll cover more effective initialization strategies later in this lesson)."
   ]
  },
  {
   "cell_type": "code",
   "execution_count": 49,
   "metadata": {
    "colab": {
     "base_uri": "https://localhost:8080/"
    },
    "executionInfo": {
     "elapsed": 6711,
     "status": "ok",
     "timestamp": 1608144418491,
     "user": {
      "displayName": "Goku Mohandas",
      "photoUrl": "https://lh3.googleusercontent.com/a-/AOh14GjMIOf3R_zwS_zZx4ZyPMtQe0lOkGpPOEUEKWpM7g=s64",
      "userId": "00378334517810298963"
     },
     "user_tz": 420
    },
    "id": "Y3udiI1Idr62",
    "outputId": "777ea575-11dd-43ba-928f-5351d17979d7"
   },
   "outputs": [
    {
     "name": "stdout",
     "output_type": "stream",
     "text": [
      "W1: (2, 100)\n",
      "b1: (1, 100)\n"
     ]
    }
   ],
   "source": [
    "# Initialize first layer's weights\n",
    "W1 = 0.01 * np.random.randn(INPUT_DIM, HIDDEN_DIM)\n",
    "b1 = np.zeros((1, HIDDEN_DIM))\n",
    "print (f\"W1: {W1.shape}\")\n",
    "print (f\"b1: {b1.shape}\")"
   ]
  },
  {
   "cell_type": "markdown",
   "metadata": {
    "id": "oxF3FnErEKfr"
   },
   "source": [
    "## Model"
   ]
  },
  {
   "cell_type": "markdown",
   "metadata": {
    "id": "CqllhIMgxGq7"
   },
   "source": [
    "2. Feed inputs $X$ into the model to do the forward pass and receive the probabilities."
   ]
  },
  {
   "cell_type": "markdown",
   "metadata": {
    "id": "pH9-D8YE4pHH"
   },
   "source": [
    "First we pass the inputs into the first layer.\n",
    "  * $z_1 = XW_1$"
   ]
  },
  {
   "cell_type": "code",
   "execution_count": 51,
   "metadata": {
    "colab": {
     "base_uri": "https://localhost:8080/"
    },
    "executionInfo": {
     "elapsed": 6697,
     "status": "ok",
     "timestamp": 1608144418492,
     "user": {
      "displayName": "Goku Mohandas",
      "photoUrl": "https://lh3.googleusercontent.com/a-/AOh14GjMIOf3R_zwS_zZx4ZyPMtQe0lOkGpPOEUEKWpM7g=s64",
      "userId": "00378334517810298963"
     },
     "user_tz": 420
    },
    "id": "TAeYeoMtdr-t",
    "outputId": "b317217d-0abf-415e-b202-d02282a165a2"
   },
   "outputs": [
    {
     "name": "stdout",
     "output_type": "stream",
     "text": [
      "z1: (1050, 100)\n"
     ]
    }
   ],
   "source": [
    "# z1 = [NX2] · [2X100] + [1X100] = [NX100]\n",
    "z1 = np.dot(X_train, W1) + b1\n",
    "print (f\"z1: {z1.shape}\")"
   ]
  },
  {
   "cell_type": "markdown",
   "metadata": {
    "id": "15yZEt903YOO"
   },
   "source": [
    "Next we apply the non-linear activation function, ReLU ($max(0,z)$) in this case.\n",
    "  * $a_1 = f(z_1)$"
   ]
  },
  {
   "cell_type": "code",
   "execution_count": 52,
   "metadata": {
    "colab": {
     "base_uri": "https://localhost:8080/"
    },
    "executionInfo": {
     "elapsed": 6964,
     "status": "ok",
     "timestamp": 1608144418772,
     "user": {
      "displayName": "Goku Mohandas",
      "photoUrl": "https://lh3.googleusercontent.com/a-/AOh14GjMIOf3R_zwS_zZx4ZyPMtQe0lOkGpPOEUEKWpM7g=s64",
      "userId": "00378334517810298963"
     },
     "user_tz": 420
    },
    "id": "yAFau-Zm3YVM",
    "outputId": "df1030bb-8304-448d-9d34-8afe5d148447"
   },
   "outputs": [
    {
     "name": "stdout",
     "output_type": "stream",
     "text": [
      "a_1: (1050, 100)\n"
     ]
    }
   ],
   "source": [
    "# Apply activation function\n",
    "a1 = np.maximum(0, z1) # ReLU\n",
    "print (f\"a_1: {a1.shape}\")"
   ]
  },
  {
   "cell_type": "markdown",
   "metadata": {
    "id": "gNHCPVa03YGB"
   },
   "source": [
    "We pass the activations to the second layer to get our logits.\n",
    "  * $z_2 = a_1W_2$"
   ]
  },
  {
   "cell_type": "code",
   "execution_count": 53,
   "metadata": {
    "colab": {
     "base_uri": "https://localhost:8080/"
    },
    "executionInfo": {
     "elapsed": 6952,
     "status": "ok",
     "timestamp": 1608144418773,
     "user": {
      "displayName": "Goku Mohandas",
      "photoUrl": "https://lh3.googleusercontent.com/a-/AOh14GjMIOf3R_zwS_zZx4ZyPMtQe0lOkGpPOEUEKWpM7g=s64",
      "userId": "00378334517810298963"
     },
     "user_tz": 420
    },
    "id": "kyJS1y2o3YJb",
    "outputId": "e0bc7d4f-b327-4181-b622-97c248c34b2d"
   },
   "outputs": [
    {
     "name": "stdout",
     "output_type": "stream",
     "text": [
      "W2: (100, 3)\n",
      "b2: (1, 3)\n"
     ]
    }
   ],
   "source": [
    "# Initialize second layer's weights\n",
    "W2 = 0.01 * np.random.randn(HIDDEN_DIM, NUM_CLASSES)\n",
    "b2 = np.zeros((1, NUM_CLASSES))\n",
    "print (f\"W2: {W2.shape}\")\n",
    "print (f\"b2: {b2.shape}\")"
   ]
  },
  {
   "cell_type": "code",
   "execution_count": 54,
   "metadata": {
    "colab": {
     "base_uri": "https://localhost:8080/"
    },
    "executionInfo": {
     "elapsed": 6939,
     "status": "ok",
     "timestamp": 1608144418774,
     "user": {
      "displayName": "Goku Mohandas",
      "photoUrl": "https://lh3.googleusercontent.com/a-/AOh14GjMIOf3R_zwS_zZx4ZyPMtQe0lOkGpPOEUEKWpM7g=s64",
      "userId": "00378334517810298963"
     },
     "user_tz": 420
    },
    "id": "k_sCtbVh5DfI",
    "outputId": "4b383131-2904-459c-cbdc-4f09c7cabfb0"
   },
   "outputs": [
    {
     "name": "stdout",
     "output_type": "stream",
     "text": [
      "logits: (1050, 3)\n",
      "sample: [-0.00010001  0.00418463 -0.00067274]\n"
     ]
    }
   ],
   "source": [
    "# z2 = logits = [NX100] · [100X3] + [1X3] = [NX3]\n",
    "logits = np.dot(a1, W2) + b2\n",
    "print (f\"logits: {logits.shape}\")\n",
    "print (f\"sample: {logits[0]}\")"
   ]
  },
  {
   "cell_type": "markdown",
   "metadata": {
    "id": "6r_NhZuP3X5g"
   },
   "source": [
    "We'll apply the softmax function to normalize the logits and obtain class probabilities.\n",
    "  * $\\hat{y} = softmax(z_2)$"
   ]
  },
  {
   "cell_type": "code",
   "execution_count": 55,
   "metadata": {
    "colab": {
     "base_uri": "https://localhost:8080/"
    },
    "executionInfo": {
     "elapsed": 6925,
     "status": "ok",
     "timestamp": 1608144418774,
     "user": {
      "displayName": "Goku Mohandas",
      "photoUrl": "https://lh3.googleusercontent.com/a-/AOh14GjMIOf3R_zwS_zZx4ZyPMtQe0lOkGpPOEUEKWpM7g=s64",
      "userId": "00378334517810298963"
     },
     "user_tz": 420
    },
    "id": "wI3jpHGJ3X_i",
    "outputId": "eb503e06-b8f3-4d21-c925-d6b362b96444"
   },
   "outputs": [
    {
     "name": "stdout",
     "output_type": "stream",
     "text": [
      "y_hat: (1050, 3)\n",
      "sample: [0.33292037 0.33434987 0.33272975]\n"
     ]
    }
   ],
   "source": [
    "# Normalization via softmax to obtain class probabilities\n",
    "exp_logits = np.exp(logits)\n",
    "y_hat = exp_logits / np.sum(exp_logits, axis=1, keepdims=True)\n",
    "print (f\"y_hat: {y_hat.shape}\")\n",
    "print (f\"sample: {y_hat[0]}\")"
   ]
  },
  {
   "cell_type": "markdown",
   "metadata": {
    "id": "AhbLV8h7EPUT"
   },
   "source": [
    "## Loss"
   ]
  },
  {
   "cell_type": "markdown",
   "metadata": {
    "id": "_VzjdcZG2h_h"
   },
   "source": [
    "3. Compare the predictions $\\hat{y}$ (ex.  [0.3, 0.3, 0.4]) with the actual target values $y$ (ex. class 2 would look like [0, 0, 1]) with the objective (cost) function to determine loss $J$. A common objective function for classification tasks is cross-entropy loss. \n",
    "  * $J(\\theta) = - \\sum_i ln(\\hat{y_i}) = - \\sum_i ln (\\frac{e^{X_iW_y}}{\\sum_j e^{X_iW}}) $"
   ]
  },
  {
   "cell_type": "code",
   "execution_count": 56,
   "metadata": {
    "id": "0llchiDhxGGI"
   },
   "outputs": [],
   "source": [
    "# Loss\n",
    "correct_class_logprobs = -np.log(y_hat[range(len(y_hat)), y_train])\n",
    "loss = np.sum(correct_class_logprobs) / len(y_train)"
   ]
  },
  {
   "cell_type": "markdown",
   "metadata": {
    "id": "OsLXL8rxEYE6"
   },
   "source": [
    "## Gradients"
   ]
  },
  {
   "cell_type": "markdown",
   "metadata": {
    "id": "6y4ZWFp32jd2"
   },
   "source": [
    "4. Calculate the gradient of loss $J(\\theta)$ w.r.t to the model weights. \n",
    "\n",
    "The gradient of the loss w.r.t to $W_2$ is the same as the gradients from logistic regression since $\\hat{y} = softmax(z_2)$.\n",
    "  * $\\frac{\\partial{J}}{\\partial{W_{2j}}} = \\frac{\\partial{J}}{\\partial{\\hat{y}}}\\frac{\\partial{\\hat{y}}}{\\partial{W_{2j}}} = - \\frac{1}{\\hat{y}}\\frac{\\partial{\\hat{y}}}{\\partial{W_{2j}}} = - \\frac{1}{\\frac{e^{W_{2y}a_1}}{\\sum_j e^{a_1W}}}\\frac{\\sum_j e^{a_1W}e^{a_1W_{2y}}0 - e^{a_1W_{2y}}e^{a_1W_{2j}}a_1}{(\\sum_j e^{a_1W})^2} = \\frac{a_1e^{a_1W_{2j}}}{\\sum_j e^{a_1W}} = a_1\\hat{y}$\n",
    "  * $\\frac{\\partial{J}}{\\partial{W_{2y}}} = \\frac{\\partial{J}}{\\partial{\\hat{y}}}\\frac{\\partial{\\hat{y}}}{\\partial{W_{2y}}} = - \\frac{1}{\\hat{y}}\\frac{\\partial{\\hat{y}}}{\\partial{W_{2y}}} = - \\frac{1}{\\frac{e^{W_{2y}a_1}}{\\sum_j e^{a_1W}}}\\frac{\\sum_j e^{a_1W}e^{a_1W_{2y}}a_1 - e^{a_1W_{2y}}e^{a_1W_{2y}}a_1}{(\\sum_j e^{a_1W})^2} = \\frac{1}{\\hat{y}}(a_1\\hat{y} - a_1\\hat{y}^2) = a_1(\\hat{y}-1)$\n",
    "\n",
    "The gradient of the loss w.r.t $W_1$ is a bit trickier since we have to backpropagate through two sets of weights.\n",
    "  * $ \\frac{\\partial{J}}{\\partial{W_1}} = \\frac{\\partial{J}}{\\partial{\\hat{y}}} \\frac{\\partial{\\hat{y}}}{\\partial{a_1}}  \\frac{\\partial{a_1}}{\\partial{z_1}}  \\frac{\\partial{z_1}}{\\partial{W_1}}  = W_2(\\partial{scores})(\\partial{ReLU})X $"
   ]
  },
  {
   "cell_type": "code",
   "execution_count": 57,
   "metadata": {
    "id": "9D2ujwNOxGQ1"
   },
   "outputs": [],
   "source": [
    "# dJ/dW2\n",
    "dscores = y_hat\n",
    "dscores[range(len(y_hat)), y_train] -= 1\n",
    "dscores /= len(y_train)\n",
    "dW2 = np.dot(a1.T, dscores)\n",
    "db2 = np.sum(dscores, axis=0, keepdims=True)"
   ]
  },
  {
   "cell_type": "code",
   "execution_count": 58,
   "metadata": {
    "id": "gEpKpAgn78h4"
   },
   "outputs": [],
   "source": [
    "# dJ/dW1\n",
    "dhidden = np.dot(dscores, W2.T)\n",
    "dhidden[a1 <= 0] = 0 # ReLu backprop\n",
    "dW1 = np.dot(X_train.T, dhidden)\n",
    "db1 = np.sum(dhidden, axis=0, keepdims=True)"
   ]
  },
  {
   "cell_type": "markdown",
   "metadata": {
    "id": "tKlRXHmoEafb"
   },
   "source": [
    "## Update weights"
   ]
  },
  {
   "cell_type": "markdown",
   "metadata": {
    "id": "z1j-lgGq2lb_"
   },
   "source": [
    "5. Update the weights $W$ using a small learning rate $\\alpha$. The updates will penalize the probability for the incorrect classes ($j$) and encourage a higher probability for the correct class ($y$).\n",
    "  * $W_i = W_i - \\alpha\\frac{\\partial{J}}{\\partial{W_i}}$"
   ]
  },
  {
   "cell_type": "code",
   "execution_count": 59,
   "metadata": {
    "id": "6kZoWyx-xGW8"
   },
   "outputs": [],
   "source": [
    "# Update weights\n",
    "W1 += -LEARNING_RATE * dW1\n",
    "b1 += -LEARNING_RATE * db1\n",
    "W2 += -LEARNING_RATE * dW2\n",
    "b2 += -LEARNING_RATE * db2"
   ]
  },
  {
   "cell_type": "markdown",
   "metadata": {
    "id": "7K8S9rf1EdHy"
   },
   "source": [
    "## Training"
   ]
  },
  {
   "cell_type": "markdown",
   "metadata": {
    "id": "6lho6k572mge"
   },
   "source": [
    "6. Repeat steps 2 - 4 until model performs well."
   ]
  },
  {
   "cell_type": "code",
   "execution_count": 60,
   "metadata": {
    "id": "BFH0tHlZaoaS"
   },
   "outputs": [],
   "source": [
    "# Convert tensors to NumPy arrays\n",
    "X_train = X_train.numpy()\n",
    "y_train = y_train.numpy()\n",
    "X_val = X_val.numpy()\n",
    "y_val = y_val.numpy()\n",
    "X_test = X_test.numpy()\n",
    "y_test = y_test.numpy()"
   ]
  },
  {
   "cell_type": "code",
   "execution_count": 61,
   "metadata": {
    "colab": {
     "base_uri": "https://localhost:8080/"
    },
    "executionInfo": {
     "elapsed": 11816,
     "status": "ok",
     "timestamp": 1608144423695,
     "user": {
      "displayName": "Goku Mohandas",
      "photoUrl": "https://lh3.googleusercontent.com/a-/AOh14GjMIOf3R_zwS_zZx4ZyPMtQe0lOkGpPOEUEKWpM7g=s64",
      "userId": "00378334517810298963"
     },
     "user_tz": 420
    },
    "id": "ScHz7h6OxGU_",
    "outputId": "f18974b5-535b-4f50-fe4b-062b4a54f324"
   },
   "outputs": [
    {
     "name": "stdout",
     "output_type": "stream",
     "text": [
      "Epoch: 0, loss: 1.099, accuracy: 0.349\n",
      "Epoch: 100, loss: 0.545, accuracy: 0.687\n",
      "Epoch: 200, loss: 0.247, accuracy: 0.903\n",
      "Epoch: 300, loss: 0.142, accuracy: 0.949\n",
      "Epoch: 400, loss: 0.099, accuracy: 0.974\n",
      "Epoch: 500, loss: 0.076, accuracy: 0.986\n",
      "Epoch: 600, loss: 0.062, accuracy: 0.990\n",
      "Epoch: 700, loss: 0.052, accuracy: 0.994\n",
      "Epoch: 800, loss: 0.046, accuracy: 0.995\n",
      "Epoch: 900, loss: 0.041, accuracy: 0.995\n"
     ]
    }
   ],
   "source": [
    "# Initialize random weights\n",
    "W1 = 0.01 * np.random.randn(INPUT_DIM, HIDDEN_DIM)\n",
    "b1 = np.zeros((1, HIDDEN_DIM))\n",
    "W2 = 0.01 * np.random.randn(HIDDEN_DIM, NUM_CLASSES)\n",
    "b2 = np.zeros((1, NUM_CLASSES))\n",
    "\n",
    "# Training loop\n",
    "for epoch_num in range(1000):\n",
    "\n",
    "    # First layer forward pass [NX2] · [2X100] = [NX100]\n",
    "    z1 = np.dot(X_train, W1) + b1\n",
    "\n",
    "    # Apply activation function\n",
    "    a1 = np.maximum(0, z1) # ReLU\n",
    "\n",
    "    # z2 = logits = [NX100] · [100X3] = [NX3]\n",
    "    logits = np.dot(a1, W2) + b2\n",
    "    \n",
    "    # Normalization via softmax to obtain class probabilities\n",
    "    exp_logits = np.exp(logits)\n",
    "    y_hat = exp_logits / np.sum(exp_logits, axis=1, keepdims=True)\n",
    "\n",
    "    # Loss\n",
    "    correct_class_logprobs = -np.log(y_hat[range(len(y_hat)), y_train])\n",
    "    loss = np.sum(correct_class_logprobs) / len(y_train)\n",
    "\n",
    "    # show progress\n",
    "    if epoch_num%100 == 0:\n",
    "        # Accuracy\n",
    "        y_pred = np.argmax(logits, axis=1)\n",
    "        accuracy =  np.mean(np.equal(y_train, y_pred))\n",
    "        print (f\"Epoch: {epoch_num}, loss: {loss:.3f}, accuracy: {accuracy:.3f}\")\n",
    "\n",
    "    # dJ/dW2\n",
    "    dscores = y_hat\n",
    "    dscores[range(len(y_hat)), y_train] -= 1\n",
    "    dscores /= len(y_train)\n",
    "    dW2 = np.dot(a1.T, dscores)\n",
    "    db2 = np.sum(dscores, axis=0, keepdims=True)\n",
    "\n",
    "    # dJ/dW1\n",
    "    dhidden = np.dot(dscores, W2.T)\n",
    "    dhidden[a1 <= 0] = 0 # ReLu backprop\n",
    "    dW1 = np.dot(X_train.T, dhidden)\n",
    "    db1 = np.sum(dhidden, axis=0, keepdims=True)\n",
    "\n",
    "    # Update weights\n",
    "    W1 += -1e0 * dW1\n",
    "    b1 += -1e0 * db1\n",
    "    W2 += -1e0 * dW2\n",
    "    b2 += -1e0 * db2"
   ]
  },
  {
   "cell_type": "markdown",
   "metadata": {
    "id": "5Ds6s29xiDgx"
   },
   "source": [
    "## Evaluation"
   ]
  },
  {
   "cell_type": "code",
   "execution_count": 62,
   "metadata": {
    "id": "2hDGiO6Ng8CI"
   },
   "outputs": [],
   "source": [
    "class MLPFromScratch():\n",
    "    def predict(self, x):\n",
    "        z1 = np.dot(x, W1) + b1\n",
    "        a1 = np.maximum(0, z1)\n",
    "        logits = np.dot(a1, W2) + b2\n",
    "        exp_logits = np.exp(logits)\n",
    "        y_hat = exp_logits / np.sum(exp_logits, axis=1, keepdims=True)\n",
    "        return y_hat"
   ]
  },
  {
   "cell_type": "code",
   "execution_count": 63,
   "metadata": {
    "id": "Dv5Y3-1ibuPM"
   },
   "outputs": [],
   "source": [
    "# Evaluation\n",
    "model = MLPFromScratch()\n",
    "y_prob = model.predict(X_test)\n",
    "y_pred = np.argmax(y_prob, axis=1)"
   ]
  },
  {
   "cell_type": "code",
   "execution_count": 64,
   "metadata": {
    "colab": {
     "base_uri": "https://localhost:8080/"
    },
    "executionInfo": {
     "elapsed": 11801,
     "status": "ok",
     "timestamp": 1608144423700,
     "user": {
      "displayName": "Goku Mohandas",
      "photoUrl": "https://lh3.googleusercontent.com/a-/AOh14GjMIOf3R_zwS_zZx4ZyPMtQe0lOkGpPOEUEKWpM7g=s64",
      "userId": "00378334517810298963"
     },
     "user_tz": 420
    },
    "id": "XfmYidNSgkcv",
    "outputId": "7495ce26-a8fb-4955-edde-d2cd79ea0b07"
   },
   "outputs": [
    {
     "name": "stdout",
     "output_type": "stream",
     "text": [
      "{\n",
      "  \"overall\": {\n",
      "    \"precision\": 0.9956140350877192,\n",
      "    \"recall\": 0.9955555555555555,\n",
      "    \"f1\": 0.9955553580159118,\n",
      "    \"num_samples\": 225.0\n",
      "  },\n",
      "  \"class\": {\n",
      "    \"c1\": {\n",
      "      \"precision\": 1.0,\n",
      "      \"recall\": 0.9866666666666667,\n",
      "      \"f1\": 0.9932885906040269,\n",
      "      \"num_samples\": 75.0\n",
      "    },\n",
      "    \"c2\": {\n",
      "      \"precision\": 1.0,\n",
      "      \"recall\": 1.0,\n",
      "      \"f1\": 1.0,\n",
      "      \"num_samples\": 75.0\n",
      "    },\n",
      "    \"c3\": {\n",
      "      \"precision\": 0.9868421052631579,\n",
      "      \"recall\": 1.0,\n",
      "      \"f1\": 0.9933774834437086,\n",
      "      \"num_samples\": 75.0\n",
      "    }\n",
      "  }\n",
      "}\n"
     ]
    }
   ],
   "source": [
    "# Performance\n",
    "performance = get_performance(y_true=y_test, y_pred=y_pred, classes=classes)\n",
    "print (json.dumps(performance, indent=2))"
   ]
  },
  {
   "cell_type": "code",
   "execution_count": 65,
   "metadata": {
    "id": "gesG_0FIdRom"
   },
   "outputs": [],
   "source": [
    "def plot_multiclass_decision_boundary_numpy(model, X, y, savefig_fp=None):\n",
    "    \"\"\"Plot the multiclass decision boundary for a model that accepts 2D inputs.\n",
    "    Credit: https://cs231n.github.io/neural-networks-case-study/\n",
    "\n",
    "    Arguments:\n",
    "        model {function} -- trained model with function model.predict(x_in).\n",
    "        X {numpy.ndarray} -- 2D inputs with shape (N, 2).\n",
    "        y {numpy.ndarray} -- 1D outputs with shape (N,).\n",
    "    \"\"\"\n",
    "    # Axis boundaries\n",
    "    x_min, x_max = X[:, 0].min() - 0.1, X[:, 0].max() + 0.1\n",
    "    y_min, y_max = X[:, 1].min() - 0.1, X[:, 1].max() + 0.1\n",
    "    xx, yy = np.meshgrid(np.linspace(x_min, x_max, 101),\n",
    "                         np.linspace(y_min, y_max, 101))\n",
    "\n",
    "    # Create predictions\n",
    "    x_in = np.c_[xx.ravel(), yy.ravel()]\n",
    "    y_pred = model.predict(x_in)\n",
    "    y_pred = np.argmax(y_pred, axis=1).reshape(xx.shape)\n",
    "\n",
    "    # Plot decision boundary\n",
    "    plt.contourf(xx, yy, y_pred, cmap=plt.cm.Spectral, alpha=0.8)\n",
    "    plt.scatter(X[:, 0], X[:, 1], c=y, s=40, cmap=plt.cm.RdYlBu)\n",
    "    plt.xlim(xx.min(), xx.max())\n",
    "    plt.ylim(yy.min(), yy.max())\n",
    "\n",
    "    # Plot\n",
    "    if savefig_fp:\n",
    "        plt.savefig(savefig_fp, format=\"png\")"
   ]
  },
  {
   "cell_type": "code",
   "execution_count": 66,
   "metadata": {
    "colab": {
     "base_uri": "https://localhost:8080/",
     "height": 336
    },
    "executionInfo": {
     "elapsed": 12579,
     "status": "ok",
     "timestamp": 1608144424494,
     "user": {
      "displayName": "Goku Mohandas",
      "photoUrl": "https://lh3.googleusercontent.com/a-/AOh14GjMIOf3R_zwS_zZx4ZyPMtQe0lOkGpPOEUEKWpM7g=s64",
      "userId": "00378334517810298963"
     },
     "user_tz": 420
    },
    "id": "I5pDl4hdgkaE",
    "outputId": "b60be794-2fe7-4a3d-9218-c0670e5c7f8c"
   },
   "outputs": [
    {
     "data": {
      "image/png": "[encoded data removed]",
      "text/plain": [
       "<Figure size 864x360 with 2 Axes>"
      ]
     },
     "metadata": {},
     "output_type": "display_data"
    }
   ],
   "source": [
    "# Visualize the decision boundary\n",
    "plt.figure(figsize=(12,5))\n",
    "plt.subplot(1, 2, 1)\n",
    "plt.title(\"Train\")\n",
    "plot_multiclass_decision_boundary_numpy(model=model, X=X_train, y=y_train)\n",
    "plt.subplot(1, 2, 2)\n",
    "plt.title(\"Test\")\n",
    "plot_multiclass_decision_boundary_numpy(model=model, X=X_test, y=y_test)\n",
    "plt.show()"
   ]
  },
  {
   "cell_type": "markdown",
   "metadata": {
    "id": "br_O_NUCjkwm"
   },
   "source": [
    "# PyTorch"
   ]
  },
  {
   "cell_type": "markdown",
   "metadata": {
    "id": "kNwK9qm6FpVm"
   },
   "source": [
    "## Model"
   ]
  },
  {
   "cell_type": "markdown",
   "metadata": {
    "id": "ZZP6Tp6qY6m2"
   },
   "source": [
    "We'll be using two linear layers along with PyTorch [Functional](https://pytorch.org/docs/stable/nn.functional.html) API's [ReLU](https://pytorch.org/docs/stable/nn.functional.html#torch.nn.functional.relu) operation. "
   ]
  },
  {
   "cell_type": "code",
   "execution_count": 67,
   "metadata": {
    "id": "YtZvQVVpvl5p"
   },
   "outputs": [],
   "source": [
    "class MLP(nn.Module):\n",
    "    def __init__(self, input_dim, hidden_dim, num_classes):\n",
    "        super(MLP, self).__init__()\n",
    "        self.fc1 = nn.Linear(input_dim, hidden_dim)\n",
    "        self.fc2 = nn.Linear(hidden_dim, num_classes)\n",
    "        \n",
    "    def forward(self, x_in, apply_softmax=False):\n",
    "        z = F.relu(self.fc1(x_in)) # ReLU activaton function added!\n",
    "        y_pred = self.fc2(z)\n",
    "        if apply_softmax:\n",
    "            y_pred = F.softmax(y_pred, dim=1) \n",
    "        return y_pred"
   ]
  },
  {
   "cell_type": "code",
   "execution_count": 68,
   "metadata": {
    "colab": {
     "base_uri": "https://localhost:8080/"
    },
    "executionInfo": {
     "elapsed": 12563,
     "status": "ok",
     "timestamp": 1608144424495,
     "user": {
      "displayName": "Goku Mohandas",
      "photoUrl": "https://lh3.googleusercontent.com/a-/AOh14GjMIOf3R_zwS_zZx4ZyPMtQe0lOkGpPOEUEKWpM7g=s64",
      "userId": "00378334517810298963"
     },
     "user_tz": 420
    },
    "id": "NwnvrAUGFrZW",
    "outputId": "2b1fad8e-19fc-461e-b060-3ee54a9322fc"
   },
   "outputs": [
    {
     "name": "stdout",
     "output_type": "stream",
     "text": [
      "<bound method Module.named_parameters of MLP(\n",
      "  (fc1): Linear(in_features=2, out_features=100, bias=True)\n",
      "  (fc2): Linear(in_features=100, out_features=3, bias=True)\n",
      ")>\n"
     ]
    }
   ],
   "source": [
    "# Initialize model\n",
    "model = MLP(input_dim=INPUT_DIM, hidden_dim=HIDDEN_DIM, num_classes=NUM_CLASSES)\n",
    "print (model.named_parameters)"
   ]
  },
  {
   "cell_type": "markdown",
   "metadata": {
    "id": "o942ZstYFtHm"
   },
   "source": [
    "## Training"
   ]
  },
  {
   "cell_type": "code",
   "execution_count": 69,
   "metadata": {
    "id": "K5fIv-0sbpJ8"
   },
   "outputs": [],
   "source": [
    "# Define Loss\n",
    "class_weights_tensor = torch.Tensor(list(class_weights.values()))\n",
    "loss_fn = nn.CrossEntropyLoss(weight=class_weights_tensor)"
   ]
  },
  {
   "cell_type": "code",
   "execution_count": 70,
   "metadata": {
    "id": "TN0Jh_drczUh"
   },
   "outputs": [],
   "source": [
    "# Accuracy\n",
    "def accuracy_fn(y_pred, y_true):\n",
    "    n_correct = torch.eq(y_pred, y_true).sum().item()\n",
    "    accuracy = (n_correct / len(y_pred)) * 100\n",
    "    return accuracy"
   ]
  },
  {
   "cell_type": "code",
   "execution_count": 71,
   "metadata": {
    "id": "nmeU45XF0O-U"
   },
   "outputs": [],
   "source": [
    "# Optimizer\n",
    "optimizer = Adam(model.parameters(), lr=LEARNING_RATE) "
   ]
  },
  {
   "cell_type": "code",
   "execution_count": 72,
   "metadata": {
    "id": "SHKHbn4xFwjl"
   },
   "outputs": [],
   "source": [
    "# Convert data to tensors\n",
    "X_train = torch.Tensor(X_train)\n",
    "y_train = torch.LongTensor(y_train)\n",
    "X_val = torch.Tensor(X_val)\n",
    "y_val = torch.LongTensor(y_val)\n",
    "X_test = torch.Tensor(X_test)\n",
    "y_test = torch.LongTensor(y_test)"
   ]
  },
  {
   "cell_type": "code",
   "execution_count": 73,
   "metadata": {
    "colab": {
     "base_uri": "https://localhost:8080/"
    },
    "executionInfo": {
     "elapsed": 12766,
     "status": "ok",
     "timestamp": 1608144424721,
     "user": {
      "displayName": "Goku Mohandas",
      "photoUrl": "https://lh3.googleusercontent.com/a-/AOh14GjMIOf3R_zwS_zZx4ZyPMtQe0lOkGpPOEUEKWpM7g=s64",
      "userId": "00378334517810298963"
     },
     "user_tz": 420
    },
    "id": "SJc5obfebwEp",
    "outputId": "1ecc5264-c75d-4ac1-dc7e-a811489e2729"
   },
   "outputs": [
    {
     "name": "stdout",
     "output_type": "stream",
     "text": [
      "Epoch: 0 | loss: 1.11, accuracy: 24.3\n",
      "Epoch: 10 | loss: 0.67, accuracy: 55.4\n",
      "Epoch: 20 | loss: 0.51, accuracy: 70.6\n",
      "Epoch: 30 | loss: 0.39, accuracy: 88.5\n",
      "Epoch: 40 | loss: 0.29, accuracy: 90.3\n",
      "Epoch: 50 | loss: 0.22, accuracy: 93.4\n",
      "Epoch: 60 | loss: 0.18, accuracy: 94.7\n",
      "Epoch: 70 | loss: 0.15, accuracy: 95.9\n",
      "Epoch: 80 | loss: 0.12, accuracy: 97.3\n",
      "Epoch: 90 | loss: 0.11, accuracy: 97.7\n"
     ]
    }
   ],
   "source": [
    "# Training\n",
    "for epoch in range(NUM_EPOCHS*10):\n",
    "    # Forward pass\n",
    "    y_pred = model(X_train)\n",
    "\n",
    "    # Loss\n",
    "    loss = loss_fn(y_pred, y_train)\n",
    "\n",
    "    # Zero all gradients\n",
    "    optimizer.zero_grad()\n",
    "\n",
    "    # Backward pass\n",
    "    loss.backward()\n",
    "\n",
    "    # Update weights\n",
    "    optimizer.step()\n",
    "\n",
    "    if epoch%10==0: \n",
    "        predictions = y_pred.max(dim=1)[1] # class\n",
    "        accuracy = accuracy_fn(y_pred=predictions, y_true=y_train)\n",
    "        print (f\"Epoch: {epoch} | loss: {loss:.2f}, accuracy: {accuracy:.1f}\")"
   ]
  },
  {
   "cell_type": "markdown",
   "metadata": {
    "id": "10HGpWGTF4oR"
   },
   "source": [
    "## Evaluation"
   ]
  },
  {
   "cell_type": "code",
   "execution_count": 74,
   "metadata": {
    "id": "Y4tI2iZ1vl8e"
   },
   "outputs": [],
   "source": [
    "# Predictions\n",
    "y_prob = model(X_test, apply_softmax=True)\n",
    "y_pred = y_prob.max(dim=1)[1]"
   ]
  },
  {
   "cell_type": "code",
   "execution_count": 75,
   "metadata": {
    "colab": {
     "base_uri": "https://localhost:8080/"
    },
    "executionInfo": {
     "elapsed": 12755,
     "status": "ok",
     "timestamp": 1608144424723,
     "user": {
      "displayName": "Goku Mohandas",
      "photoUrl": "https://lh3.googleusercontent.com/a-/AOh14GjMIOf3R_zwS_zZx4ZyPMtQe0lOkGpPOEUEKWpM7g=s64",
      "userId": "00378334517810298963"
     },
     "user_tz": 420
    },
    "id": "AztBDtaziBQZ",
    "outputId": "3f88da6f-1dac-4418-f5db-222313c55e9f"
   },
   "outputs": [
    {
     "name": "stdout",
     "output_type": "stream",
     "text": [
      "{\n",
      "  \"overall\": {\n",
      "    \"precision\": 0.9913419913419913,\n",
      "    \"recall\": 0.9911111111111112,\n",
      "    \"f1\": 0.9911095305832148,\n",
      "    \"num_samples\": 225.0\n",
      "  },\n",
      "  \"class\": {\n",
      "    \"c1\": {\n",
      "      \"precision\": 1.0,\n",
      "      \"recall\": 0.9733333333333334,\n",
      "      \"f1\": 0.9864864864864865,\n",
      "      \"num_samples\": 75.0\n",
      "    },\n",
      "    \"c2\": {\n",
      "      \"precision\": 1.0,\n",
      "      \"recall\": 1.0,\n",
      "      \"f1\": 1.0,\n",
      "      \"num_samples\": 75.0\n",
      "    },\n",
      "    \"c3\": {\n",
      "      \"precision\": 0.974025974025974,\n",
      "      \"recall\": 1.0,\n",
      "      \"f1\": 0.9868421052631579,\n",
      "      \"num_samples\": 75.0\n",
      "    }\n",
      "  }\n",
      "}\n"
     ]
    }
   ],
   "source": [
    "# Performance\n",
    "performance = get_performance(y_true=y_test, y_pred=y_pred, classes=classes)\n",
    "print (json.dumps(performance, indent=2))"
   ]
  },
  {
   "cell_type": "code",
   "execution_count": 76,
   "metadata": {
    "colab": {
     "base_uri": "https://localhost:8080/",
     "height": 336
    },
    "executionInfo": {
     "elapsed": 13056,
     "status": "ok",
     "timestamp": 1608144425036,
     "user": {
      "displayName": "Goku Mohandas",
      "photoUrl": "https://lh3.googleusercontent.com/a-/AOh14GjMIOf3R_zwS_zZx4ZyPMtQe0lOkGpPOEUEKWpM7g=s64",
      "userId": "00378334517810298963"
     },
     "user_tz": 420
    },
    "id": "Xj7cwzZ4NoVI",
    "outputId": "a8311930-6f12-466c-c4bc-20a68c2545f2"
   },
   "outputs": [
    {
     "data": {
      "image/png": "[encoded data removed]",
      "text/plain": [
       "<Figure size 864x360 with 2 Axes>"
      ]
     },
     "metadata": {},
     "output_type": "display_data"
    }
   ],
   "source": [
    "# Visualize the decision boundary\n",
    "plt.figure(figsize=(12,5))\n",
    "plt.subplot(1, 2, 1)\n",
    "plt.title(\"Train\")\n",
    "plot_multiclass_decision_boundary(model=model, X=X_train, y=y_train)\n",
    "plt.subplot(1, 2, 2)\n",
    "plt.title(\"Test\")\n",
    "plot_multiclass_decision_boundary(model=model, X=X_test, y=y_test)\n",
    "plt.show()"
   ]
  },
  {
   "cell_type": "markdown",
   "metadata": {
    "id": "6Cv3ev9Uo1Ii"
   },
   "source": [
    "## Inference"
   ]
  },
  {
   "cell_type": "code",
   "execution_count": 77,
   "metadata": {
    "colab": {
     "base_uri": "https://localhost:8080/",
     "height": 80
    },
    "executionInfo": {
     "elapsed": 13045,
     "status": "ok",
     "timestamp": 1608144425037,
     "user": {
      "displayName": "Goku Mohandas",
      "photoUrl": "https://lh3.googleusercontent.com/a-/AOh14GjMIOf3R_zwS_zZx4ZyPMtQe0lOkGpPOEUEKWpM7g=s64",
      "userId": "00378334517810298963"
     },
     "user_tz": 420
    },
    "id": "h25pUbR8o9eF",
    "outputId": "1aae49c4-9af6-4453-88e4-2e017a6623ee"
   },
   "outputs": [
    {
     "data": {
      "text/html": [
       "<div>\n",
       "<style scoped>\n",
       "    .dataframe tbody tr th:only-of-type {\n",
       "        vertical-align: middle;\n",
       "    }\n",
       "\n",
       "    .dataframe tbody tr th {\n",
       "        vertical-align: top;\n",
       "    }\n",
       "\n",
       "    .dataframe thead th {\n",
       "        text-align: right;\n",
       "    }\n",
       "</style>\n",
       "<table border=\"1\" class=\"dataframe\">\n",
       "  <thead>\n",
       "    <tr style=\"text-align: right;\">\n",
       "      <th></th>\n",
       "      <th>X1</th>\n",
       "      <th>X2</th>\n",
       "    </tr>\n",
       "  </thead>\n",
       "  <tbody>\n",
       "    <tr>\n",
       "      <th>0</th>\n",
       "      <td>0.1</td>\n",
       "      <td>0.1</td>\n",
       "    </tr>\n",
       "  </tbody>\n",
       "</table>\n",
       "</div>"
      ],
      "text/plain": [
       "    X1   X2\n",
       "0  0.1  0.1"
      ]
     },
     "execution_count": 77,
     "metadata": {},
     "output_type": "execute_result"
    }
   ],
   "source": [
    "# Inputs for inference\n",
    "X_infer = pd.DataFrame([{\"X1\": 0.1, \"X2\": 0.1}])\n",
    "X_infer.head()"
   ]
  },
  {
   "cell_type": "code",
   "execution_count": 78,
   "metadata": {
    "colab": {
     "base_uri": "https://localhost:8080/"
    },
    "executionInfo": {
     "elapsed": 13035,
     "status": "ok",
     "timestamp": 1608144425038,
     "user": {
      "displayName": "Goku Mohandas",
      "photoUrl": "https://lh3.googleusercontent.com/a-/AOh14GjMIOf3R_zwS_zZx4ZyPMtQe0lOkGpPOEUEKWpM7g=s64",
      "userId": "00378334517810298963"
     },
     "user_tz": 420
    },
    "id": "8G5lIYReo9l_",
    "outputId": "48affbd9-a13d-4b92-a009-547dc90740a2"
   },
   "outputs": [
    {
     "name": "stdout",
     "output_type": "stream",
     "text": [
      "[[0.29906749 0.30544029]]\n"
     ]
    },
    {
     "name": "stderr",
     "output_type": "stream",
     "text": [
      "D:\\l.dubreil\\Documents\\anaconda3\\Lib\\site-packages\\sklearn\\base.py:432: UserWarning: X has feature names, but StandardScaler was fitted without feature names\n",
      "  warnings.warn(\n"
     ]
    }
   ],
   "source": [
    "# Standardize\n",
    "X_infer = X_scaler.transform(X_infer)\n",
    "print (X_infer)"
   ]
  },
  {
   "cell_type": "code",
   "execution_count": 79,
   "metadata": {
    "colab": {
     "base_uri": "https://localhost:8080/"
    },
    "executionInfo": {
     "elapsed": 13024,
     "status": "ok",
     "timestamp": 1608144425038,
     "user": {
      "displayName": "Goku Mohandas",
      "photoUrl": "https://lh3.googleusercontent.com/a-/AOh14GjMIOf3R_zwS_zZx4ZyPMtQe0lOkGpPOEUEKWpM7g=s64",
      "userId": "00378334517810298963"
     },
     "user_tz": 420
    },
    "id": "Uow5g2-1o9kF",
    "outputId": "e6e59459-4871-4fcc-fbd2-c0072339305c"
   },
   "outputs": [
    {
     "name": "stdout",
     "output_type": "stream",
     "text": [
      "The probability that you have c1 is 92%\n"
     ]
    }
   ],
   "source": [
    "# Predict\n",
    "y_infer = model(torch.Tensor(X_infer), apply_softmax=True)\n",
    "prob, _class = y_infer.max(dim=1)\n",
    "label = label_encoder.inverse_transform(_class.detach().numpy())[0]\n",
    "print (f\"The probability that you have {label} is {prob.detach().numpy()[0]*100.0:.0f}%\")"
   ]
  },
  {
   "cell_type": "markdown",
   "metadata": {
    "id": "gWv-RU46k2UL"
   },
   "source": [
    "# Initializing weights"
   ]
  },
  {
   "cell_type": "markdown",
   "metadata": {
    "id": "1hDPBE0sk2mJ"
   },
   "source": [
    "So far we have been initializing weights with small random values and this isn't optimal for convergence during training. The objective is to have weights that are able to produce outputs that follow a similar distribution across all neurons. We can do this by enforcing weights to have unit variance prior the affine and non-linear operations."
   ]
  },
  {
   "cell_type": "markdown",
   "metadata": {
    "id": "YxCm7FyRFRWK"
   },
   "source": [
    "> A popular method is to apply [xavier initialization](http://andyljones.tumblr.com/post/110998971763/an-explanation-of-xavier-initialization), which essentially initializes the weights to allow the signal from the data to reach deep into the network. You may be wondering why we don't do this for every forward pass and that's a great question. We'll look at more advanced strategies that help with optimization like batch/layer normalization, etc. in future lessons. Meanwhile you can check out other initializers [here](https://pytorch.org/docs/stable/nn.init.html)."
   ]
  },
  {
   "cell_type": "code",
   "execution_count": 80,
   "metadata": {
    "id": "Dj7apAxufge7"
   },
   "outputs": [],
   "source": [
    "from torch.nn import init"
   ]
  },
  {
   "cell_type": "code",
   "execution_count": 81,
   "metadata": {
    "id": "U5lUR__TKvqA"
   },
   "outputs": [],
   "source": [
    "class MLP(nn.Module):\n",
    "    def __init__(self, input_dim, hidden_dim, num_classes):\n",
    "        super(MLP, self).__init__()\n",
    "        self.fc1 = nn.Linear(input_dim, hidden_dim)\n",
    "        self.fc2 = nn.Linear(hidden_dim, num_classes)\n",
    "\n",
    "    def init_weights(self):\n",
    "        init.xavier_normal(self.fc1.weight, gain=init.calculate_gain(\"relu\")) \n",
    "        \n",
    "    def forward(self, x_in, apply_softmax=False):\n",
    "        z = F.relu(self.fc1(x_in)) # ReLU activaton function added!\n",
    "        y_pred = self.fc2(z)\n",
    "        if apply_softmax:\n",
    "            y_pred = F.softmax(y_pred, dim=1) \n",
    "        return y_pred"
   ]
  },
  {
   "cell_type": "markdown",
   "metadata": {
    "id": "FAyjh3bieLjn"
   },
   "source": [
    "# Dropout"
   ]
  },
  {
   "cell_type": "markdown",
   "metadata": {
    "id": "z6kLwcBveLy5"
   },
   "source": [
    "A great technique to have our models generalize (perform well on test data) is to increase the size of your data but this isn't always an option. Fortuntely, there are methods like regularization and dropout that can help create a more robust model. \n",
    "\n",
    "Dropout is a technique (used only during training) that allows us to zero the outputs of neurons. We do this for `dropout_p`% of the total neurons in each layer and it changes every batch. Dropout prevents units from co-adapting too much to the data and acts as a sampling strategy since we drop a different set of neurons each time.\n",
    "\n",
    "<div align=\"left\">\n",
    "<img src=\"https://madewithml.com/static/images/foundations/neural_networks/dropout.png\" width=\"350\">\n",
    "</div>\n",
    "\n",
    "* [Dropout: A Simple Way to Prevent Neural Networks from\n",
    "Overfitting](http://jmlr.org/papers/volume15/srivastava14a/srivastava14a.pdf)"
   ]
  },
  {
   "cell_type": "code",
   "execution_count": 82,
   "metadata": {
    "id": "g1E2bDj2HKpb"
   },
   "outputs": [],
   "source": [
    "DROPOUT_P = 0.1 # % of the neurons that are dropped each pass"
   ]
  },
  {
   "cell_type": "code",
   "execution_count": 83,
   "metadata": {
    "id": "DS26SgeFgvG1"
   },
   "outputs": [],
   "source": [
    "class MLP(nn.Module):\n",
    "    def __init__(self, input_dim, hidden_dim, dropout_p, num_classes):\n",
    "        super(MLP, self).__init__()\n",
    "        self.fc1 = nn.Linear(input_dim, hidden_dim)\n",
    "        self.dropout = nn.Dropout(dropout_p) # dropout\n",
    "        self.fc2 = nn.Linear(hidden_dim, num_classes)\n",
    "\n",
    "    def init_weights(self):\n",
    "        init.xavier_normal(self.fc1.weight, gain=init.calculate_gain(\"relu\")) \n",
    "        \n",
    "    def forward(self, x_in, apply_softmax=False):\n",
    "        z = F.relu(self.fc1(x_in)) \n",
    "        z = self.dropout(z) # dropout\n",
    "        y_pred = self.fc2(z)\n",
    "        if apply_softmax:\n",
    "            y_pred = F.softmax(y_pred, dim=1) \n",
    "        return y_pred"
   ]
  },
  {
   "cell_type": "code",
   "execution_count": 84,
   "metadata": {
    "colab": {
     "base_uri": "https://localhost:8080/"
    },
    "executionInfo": {
     "elapsed": 13005,
     "status": "ok",
     "timestamp": 1608144425043,
     "user": {
      "displayName": "Goku Mohandas",
      "photoUrl": "https://lh3.googleusercontent.com/a-/AOh14GjMIOf3R_zwS_zZx4ZyPMtQe0lOkGpPOEUEKWpM7g=s64",
      "userId": "00378334517810298963"
     },
     "user_tz": 420
    },
    "id": "1he_g3eJgvOk",
    "outputId": "1a42d44a-8be4-42a6-cb17-d467816edc31"
   },
   "outputs": [
    {
     "name": "stdout",
     "output_type": "stream",
     "text": [
      "<bound method Module.named_parameters of MLP(\n",
      "  (fc1): Linear(in_features=2, out_features=100, bias=True)\n",
      "  (dropout): Dropout(p=0.1, inplace=False)\n",
      "  (fc2): Linear(in_features=100, out_features=3, bias=True)\n",
      ")>\n"
     ]
    }
   ],
   "source": [
    "# Initialize model\n",
    "model = MLP(input_dim=INPUT_DIM, hidden_dim=HIDDEN_DIM, \n",
    "            dropout_p=DROPOUT_P, num_classes=NUM_CLASSES)\n",
    "print (model.named_parameters)"
   ]
  },
  {
   "cell_type": "markdown",
   "metadata": {
    "id": "9ijvHwcZg8mO"
   },
   "source": [
    "# Overfitting"
   ]
  },
  {
   "cell_type": "markdown",
   "metadata": {
    "id": "FIhvdD_zg8os"
   },
   "source": [
    "Though neural networks are great at capturing non-linear relationships they are highly susceptible to overfitting to the training data and failing to generalize on test data. Just take a look at the example below where we generate completely random data and are able to fit a model with [$2*N*C + D$](https://arxiv.org/abs/1611.03530) hidden units. The training performance is good (~70%) but the overfitting leads to very poor test performance. We'll be covering strategies to tackle overfitting in future lessons."
   ]
  },
  {
   "cell_type": "code",
   "execution_count": 85,
   "metadata": {
    "id": "uRdM16NhazJP"
   },
   "outputs": [],
   "source": [
    "NUM_EPOCHS = 500\n",
    "NUM_SAMPLES_PER_CLASS = 50\n",
    "LEARNING_RATE = 1e-1\n",
    "HIDDEN_DIM = 2 * NUM_SAMPLES_PER_CLASS * NUM_CLASSES + INPUT_DIM # 2*N*C + D"
   ]
  },
  {
   "cell_type": "code",
   "execution_count": 86,
   "metadata": {
    "colab": {
     "base_uri": "https://localhost:8080/"
    },
    "executionInfo": {
     "elapsed": 13230,
     "status": "ok",
     "timestamp": 1608144425282,
     "user": {
      "displayName": "Goku Mohandas",
      "photoUrl": "https://lh3.googleusercontent.com/a-/AOh14GjMIOf3R_zwS_zZx4ZyPMtQe0lOkGpPOEUEKWpM7g=s64",
      "userId": "00378334517810298963"
     },
     "user_tz": 420
    },
    "id": "qf00Biq6g8ty",
    "outputId": "7984f5ab-1475-416d-90a9-ac2d1859e4e7"
   },
   "outputs": [
    {
     "name": "stdout",
     "output_type": "stream",
     "text": [
      "X:  (150, 2)\n",
      "y:  (150,)\n"
     ]
    }
   ],
   "source": [
    "# Generate random data\n",
    "X = np.random.rand(NUM_SAMPLES_PER_CLASS * NUM_CLASSES, INPUT_DIM)\n",
    "y = np.array([[i]*NUM_SAMPLES_PER_CLASS for i in range(NUM_CLASSES)]).reshape(-1)\n",
    "print (\"X: \", format(np.shape(X)))\n",
    "print (\"y: \", format(np.shape(y)))"
   ]
  },
  {
   "cell_type": "code",
   "execution_count": 87,
   "metadata": {
    "colab": {
     "base_uri": "https://localhost:8080/"
    },
    "executionInfo": {
     "elapsed": 13219,
     "status": "ok",
     "timestamp": 1608144425282,
     "user": {
      "displayName": "Goku Mohandas",
      "photoUrl": "https://lh3.googleusercontent.com/a-/AOh14GjMIOf3R_zwS_zZx4ZyPMtQe0lOkGpPOEUEKWpM7g=s64",
      "userId": "00378334517810298963"
     },
     "user_tz": 420
    },
    "id": "-bA9vK9SWkjh",
    "outputId": "cc101adf-7800-4821-a136-60dd5264db46"
   },
   "outputs": [
    {
     "name": "stdout",
     "output_type": "stream",
     "text": [
      "X_train: (105, 2), y_train: (105,)\n",
      "X_val: (22, 2), y_val: (22,)\n",
      "X_test: (23, 2), y_test: (23,)\n",
      "Sample point: [0.52553355 0.33956916] → 0\n"
     ]
    }
   ],
   "source": [
    "# Create data splits\n",
    "X_train, X_val, X_test, y_train, y_val, y_test = train_val_test_split(\n",
    "    X=X, y=y, train_size=TRAIN_SIZE)\n",
    "print (f\"X_train: {X_train.shape}, y_train: {y_train.shape}\")\n",
    "print (f\"X_val: {X_val.shape}, y_val: {y_val.shape}\")\n",
    "print (f\"X_test: {X_test.shape}, y_test: {y_test.shape}\")\n",
    "print (f\"Sample point: {X_train[0]} → {y_train[0]}\")"
   ]
  },
  {
   "cell_type": "code",
   "execution_count": 88,
   "metadata": {
    "id": "lYwc9mk1f5bm"
   },
   "outputs": [],
   "source": [
    "# Standardize the inputs (mean=0, std=1) using training data\n",
    "X_scaler = StandardScaler().fit(X_train)\n",
    "X_train = X_scaler.transform(X_train)\n",
    "X_val = X_scaler.transform(X_val)\n",
    "X_test = X_scaler.transform(X_test)"
   ]
  },
  {
   "cell_type": "code",
   "execution_count": 89,
   "metadata": {
    "id": "ogTctxN3gt8M"
   },
   "outputs": [],
   "source": [
    "# Convert data to tensors\n",
    "X_train = torch.Tensor(X_train)\n",
    "y_train = torch.LongTensor(y_train)\n",
    "X_val = torch.Tensor(X_val)\n",
    "y_val = torch.LongTensor(y_val)\n",
    "X_test = torch.Tensor(X_test)\n",
    "y_test = torch.LongTensor(y_test)"
   ]
  },
  {
   "cell_type": "code",
   "execution_count": 90,
   "metadata": {
    "colab": {
     "base_uri": "https://localhost:8080/"
    },
    "executionInfo": {
     "elapsed": 13206,
     "status": "ok",
     "timestamp": 1608144425286,
     "user": {
      "displayName": "Goku Mohandas",
      "photoUrl": "https://lh3.googleusercontent.com/a-/AOh14GjMIOf3R_zwS_zZx4ZyPMtQe0lOkGpPOEUEKWpM7g=s64",
      "userId": "00378334517810298963"
     },
     "user_tz": 420
    },
    "id": "DDUW0xVMh8v8",
    "outputId": "ddd3529b-a78d-4c93-fed8-8f45c36957a9"
   },
   "outputs": [
    {
     "name": "stdout",
     "output_type": "stream",
     "text": [
      "<bound method Module.named_parameters of MLP(\n",
      "  (fc1): Linear(in_features=2, out_features=302, bias=True)\n",
      "  (dropout): Dropout(p=0.1, inplace=False)\n",
      "  (fc2): Linear(in_features=302, out_features=3, bias=True)\n",
      ")>\n"
     ]
    }
   ],
   "source": [
    "# Initialize model\n",
    "model = MLP(input_dim=INPUT_DIM, hidden_dim=HIDDEN_DIM, \n",
    "            dropout_p=DROPOUT_P, num_classes=NUM_CLASSES)\n",
    "print (model.named_parameters)"
   ]
  },
  {
   "cell_type": "code",
   "execution_count": 91,
   "metadata": {
    "id": "6bIiiaOmhFiN"
   },
   "outputs": [],
   "source": [
    "# Optimizer\n",
    "optimizer = Adam(model.parameters(), lr=LEARNING_RATE) "
   ]
  },
  {
   "cell_type": "code",
   "execution_count": 92,
   "metadata": {
    "colab": {
     "base_uri": "https://localhost:8080/"
    },
    "executionInfo": {
     "elapsed": 13944,
     "status": "ok",
     "timestamp": 1608144426037,
     "user": {
      "displayName": "Goku Mohandas",
      "photoUrl": "https://lh3.googleusercontent.com/a-/AOh14GjMIOf3R_zwS_zZx4ZyPMtQe0lOkGpPOEUEKWpM7g=s64",
      "userId": "00378334517810298963"
     },
     "user_tz": 420
    },
    "id": "zgayj4E1WksH",
    "outputId": "d684e5aa-e215-46ef-c03a-818cd03b4a44"
   },
   "outputs": [
    {
     "name": "stdout",
     "output_type": "stream",
     "text": [
      "Epoch: 0 | loss: 1.15, accuracy: 37.1\n",
      "Epoch: 20 | loss: 1.04, accuracy: 47.6\n",
      "Epoch: 40 | loss: 0.98, accuracy: 51.4\n",
      "Epoch: 60 | loss: 0.90, accuracy: 57.1\n",
      "Epoch: 80 | loss: 0.87, accuracy: 59.0\n",
      "Epoch: 100 | loss: 0.88, accuracy: 58.1\n",
      "Epoch: 120 | loss: 0.84, accuracy: 64.8\n",
      "Epoch: 140 | loss: 0.86, accuracy: 61.0\n",
      "Epoch: 160 | loss: 0.81, accuracy: 64.8\n",
      "Epoch: 180 | loss: 0.89, accuracy: 59.0\n",
      "Epoch: 200 | loss: 0.90, accuracy: 61.9\n",
      "Epoch: 220 | loss: 0.81, accuracy: 64.8\n",
      "Epoch: 240 | loss: 0.85, accuracy: 58.1\n",
      "Epoch: 260 | loss: 0.83, accuracy: 63.8\n",
      "Epoch: 280 | loss: 0.83, accuracy: 65.7\n",
      "Epoch: 300 | loss: 0.87, accuracy: 61.9\n",
      "Epoch: 320 | loss: 0.81, accuracy: 61.0\n",
      "Epoch: 340 | loss: 0.81, accuracy: 65.7\n",
      "Epoch: 360 | loss: 0.80, accuracy: 61.9\n",
      "Epoch: 380 | loss: 0.84, accuracy: 61.0\n",
      "Epoch: 400 | loss: 0.76, accuracy: 68.6\n",
      "Epoch: 420 | loss: 0.79, accuracy: 63.8\n",
      "Epoch: 440 | loss: 0.79, accuracy: 63.8\n",
      "Epoch: 460 | loss: 0.79, accuracy: 61.0\n",
      "Epoch: 480 | loss: 0.73, accuracy: 68.6\n"
     ]
    }
   ],
   "source": [
    "# Training\n",
    "for epoch in range(NUM_EPOCHS):\n",
    "    # Forward pass\n",
    "    y_pred = model(X_train)\n",
    "\n",
    "    # Loss\n",
    "    loss = loss_fn(y_pred, y_train)\n",
    "\n",
    "    # Zero all gradients\n",
    "    optimizer.zero_grad()\n",
    "\n",
    "    # Backward pass\n",
    "    loss.backward()\n",
    "\n",
    "    # Update weights\n",
    "    optimizer.step()\n",
    "\n",
    "    if epoch%20==0: \n",
    "        predictions = y_pred.max(dim=1)[1] # class\n",
    "        accuracy = accuracy_fn(y_pred=predictions, y_true=y_train)\n",
    "        print (f\"Epoch: {epoch} | loss: {loss:.2f}, accuracy: {accuracy:.1f}\")"
   ]
  },
  {
   "cell_type": "code",
   "execution_count": 93,
   "metadata": {
    "id": "8QG4bPzshN8L"
   },
   "outputs": [],
   "source": [
    "# Predictions\n",
    "y_prob = model(X_test, apply_softmax=True)\n",
    "y_pred = y_prob.max(dim=1)[1]"
   ]
  },
  {
   "cell_type": "code",
   "execution_count": 94,
   "metadata": {
    "colab": {
     "base_uri": "https://localhost:8080/"
    },
    "executionInfo": {
     "elapsed": 13931,
     "status": "ok",
     "timestamp": 1608144426038,
     "user": {
      "displayName": "Goku Mohandas",
      "photoUrl": "https://lh3.googleusercontent.com/a-/AOh14GjMIOf3R_zwS_zZx4ZyPMtQe0lOkGpPOEUEKWpM7g=s64",
      "userId": "00378334517810298963"
     },
     "user_tz": 420
    },
    "id": "CHnnmEuSjN--",
    "outputId": "4941676b-5a4b-466e-800d-dfd99d0719f8"
   },
   "outputs": [
    {
     "name": "stdout",
     "output_type": "stream",
     "text": [
      "{\n",
      "  \"overall\": {\n",
      "    \"precision\": 0.20372670807453414,\n",
      "    \"recall\": 0.21739130434782608,\n",
      "    \"f1\": 0.208695652173913,\n",
      "    \"num_samples\": 23.0\n",
      "  },\n",
      "  \"class\": {\n",
      "    \"c1\": {\n",
      "      \"precision\": 0.0,\n",
      "      \"recall\": 0.0,\n",
      "      \"f1\": 0.0,\n",
      "      \"num_samples\": 7.0\n",
      "    },\n",
      "    \"c2\": {\n",
      "      \"precision\": 0.3,\n",
      "      \"recall\": 0.375,\n",
      "      \"f1\": 0.33333333333333326,\n",
      "      \"num_samples\": 8.0\n",
      "    },\n",
      "    \"c3\": {\n",
      "      \"precision\": 0.2857142857142857,\n",
      "      \"recall\": 0.25,\n",
      "      \"f1\": 0.26666666666666666,\n",
      "      \"num_samples\": 8.0\n",
      "    }\n",
      "  }\n",
      "}\n"
     ]
    }
   ],
   "source": [
    "# Performance\n",
    "performance = get_performance(y_true=y_test, y_pred=y_pred, classes=classes)\n",
    "print (json.dumps(performance, indent=2))"
   ]
  },
  {
   "cell_type": "code",
   "execution_count": 95,
   "metadata": {
    "colab": {
     "base_uri": "https://localhost:8080/",
     "height": 336
    },
    "executionInfo": {
     "elapsed": 14599,
     "status": "ok",
     "timestamp": 1608144426717,
     "user": {
      "displayName": "Goku Mohandas",
      "photoUrl": "https://lh3.googleusercontent.com/a-/AOh14GjMIOf3R_zwS_zZx4ZyPMtQe0lOkGpPOEUEKWpM7g=s64",
      "userId": "00378334517810298963"
     },
     "user_tz": 420
    },
    "id": "rpSoAEdGWku5",
    "outputId": "f1ce7496-f8c7-4e26-f6f6-388bf669fd62"
   },
   "outputs": [
    {
     "data": {
      "image/png": "[encoded data removed]",
      "text/plain": [
       "<Figure size 864x360 with 2 Axes>"
      ]
     },
     "metadata": {},
     "output_type": "display_data"
    }
   ],
   "source": [
    "# Visualize the decision boundary\n",
    "plt.figure(figsize=(12,5))\n",
    "plt.subplot(1, 2, 1)\n",
    "plt.title(\"Train\")\n",
    "plot_multiclass_decision_boundary(model=model, X=X_train, y=y_train)\n",
    "plt.subplot(1, 2, 2)\n",
    "plt.title(\"Test\")\n",
    "plot_multiclass_decision_boundary(model=model, X=X_test, y=y_test)\n",
    "plt.show()"
   ]
  },
  {
   "cell_type": "markdown",
   "metadata": {
    "id": "yppKnFIL6Vv7"
   },
   "source": [
    "It's important that we experiment, starting with simple models that underfit (high bias) and improve it towards a good fit. Starting with simple models (linear/logistic regression) let's us catch errors without the added complexity of more sophisticated models (neural networks). "
   ]
  },
  {
   "cell_type": "markdown",
   "metadata": {
    "id": "WC0m-lMnE4Jp"
   },
   "source": [
    "<div align=\"left\">\n",
    "<img src=\"https://madewithml.com/static/images/foundations/neural_networks/fit.png\" width=\"700\">\n",
    "</div>"
   ]
  }
 ],
 "metadata": {
  "colab": {
   "collapsed_sections": [],
   "name": "08_Neural_Networks",
   "provenance": [
    {
     "file_id": "https://github.com/GokuMohandas/Made-With-ML/blob/main/notebooks/08_Neural_Networks.ipynb",
     "timestamp": 1608053133778
    },
    {
     "file_id": "https://github.com/GokuMohandas/Made-With-ML/blob/main/notebooks/08_Neural_Networks.ipynb",
     "timestamp": 1582822364411
    }
   ],
   "toc_visible": true
  },
  "kernelspec": {
   "display_name": "Python 3 (Spyder)",
   "language": "python3",
   "name": "python3"
  },
  "language_info": {
   "codemirror_mode": {
    "name": "ipython",
    "version": 3
   },
   "file_extension": ".py",
   "mimetype": "text/x-python",
   "name": "python",
   "nbconvert_exporter": "python",
   "pygments_lexer": "ipython3",
   "version": "3.11.3"
  },
  "vscode": {
   "interpreter": {
    "hash": "86a18fab98e45cbbb46dd97b38b13914cb97c5aa653edcee9fd16b53f5a0e542"
   }
  }
 },
 "nbformat": 4,
 "nbformat_minor": 4
}
